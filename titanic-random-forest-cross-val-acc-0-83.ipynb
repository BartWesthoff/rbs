{
 "cells": [
  {
   "cell_type": "markdown",
   "id": "721a22c3",
   "metadata": {
    "papermill": {
     "duration": 0.020266,
     "end_time": "2023-01-04T17:00:54.854289",
     "exception": false,
     "start_time": "2023-01-04T17:00:54.834023",
     "status": "completed"
    },
    "tags": []
   },
   "source": [
    "## 1  - Data Exploration"
   ]
  },
  {
   "cell_type": "code",
   "execution_count": 1,
   "id": "6d2797ee",
   "metadata": {
    "_kg_hide-input": true,
    "execution": {
     "iopub.execute_input": "2023-01-04T17:00:54.891869Z",
     "iopub.status.busy": "2023-01-04T17:00:54.891380Z",
     "iopub.status.idle": "2023-01-04T17:01:02.102806Z",
     "shell.execute_reply": "2023-01-04T17:01:02.101561Z"
    },
    "papermill": {
     "duration": 7.233567,
     "end_time": "2023-01-04T17:01:02.105904",
     "exception": false,
     "start_time": "2023-01-04T17:00:54.872337",
     "status": "completed"
    },
    "tags": []
   },
   "outputs": [],
   "source": [
    "# imports \n",
    "import numpy as np\n",
    "import pandas as pd \n",
    "import os\n",
    "import random\n",
    "# import tensorflow as tf\n",
    "import xgboost as xgb\n",
    "\n",
    "# visualisation'\n",
    "import matplotlib.pyplot as plt\n",
    "import seaborn as sns \n",
    "sns.set_style(style = 'darkgrid')\n",
    "sns.set_palette('viridis')\n",
    "\n",
    "%matplotlib inline\n",
    "\n",
    "from sklearn.ensemble import RandomForestClassifier\n",
    "from sklearn.preprocessing import OneHotEncoder, LabelEncoder, StandardScaler\n",
    "from sklearn.metrics import roc_curve, auc\n",
    "from sklearn.model_selection import StratifiedKFold"
   ]
  },
  {
   "cell_type": "markdown",
   "id": "17129037",
   "metadata": {
    "papermill": {
     "duration": 0.017494,
     "end_time": "2023-01-04T17:01:02.141309",
     "exception": false,
     "start_time": "2023-01-04T17:01:02.123815",
     "status": "completed"
    },
    "tags": []
   },
   "source": [
    "## Reproducibility"
   ]
  },
  {
   "cell_type": "code",
   "execution_count": 2,
   "id": "17960e83",
   "metadata": {
    "_kg_hide-input": true,
    "execution": {
     "iopub.execute_input": "2023-01-04T17:01:02.179498Z",
     "iopub.status.busy": "2023-01-04T17:01:02.178752Z",
     "iopub.status.idle": "2023-01-04T17:01:02.186415Z",
     "shell.execute_reply": "2023-01-04T17:01:02.185193Z"
    },
    "papermill": {
     "duration": 0.031113,
     "end_time": "2023-01-04T17:01:02.190257",
     "exception": false,
     "start_time": "2023-01-04T17:01:02.159144",
     "status": "completed"
    },
    "tags": []
   },
   "outputs": [
    {
     "name": "stdout",
     "output_type": "stream",
     "text": [
      "seeding done!\n"
     ]
    }
   ],
   "source": [
    "# reproducibility \n",
    "seed_value = 42\n",
    "def seeding(seed):\n",
    "    np.random.seed(seed)\n",
    "    random.seed(seed)\n",
    "    # tf.random.set_seed(seed)\n",
    "    print('seeding done!')\n",
    "    \n",
    "seeding(seed_value)"
   ]
  },
  {
   "cell_type": "code",
   "execution_count": 3,
   "id": "c3f685d0",
   "metadata": {
    "_kg_hide-input": true,
    "execution": {
     "iopub.execute_input": "2023-01-04T17:01:02.229271Z",
     "iopub.status.busy": "2023-01-04T17:01:02.228835Z",
     "iopub.status.idle": "2023-01-04T17:01:02.285826Z",
     "shell.execute_reply": "2023-01-04T17:01:02.284831Z"
    },
    "papermill": {
     "duration": 0.078649,
     "end_time": "2023-01-04T17:01:02.288244",
     "exception": false,
     "start_time": "2023-01-04T17:01:02.209595",
     "status": "completed"
    },
    "tags": []
   },
   "outputs": [
    {
     "name": "stdout",
     "output_type": "stream",
     "text": [
      "Train data\n"
     ]
    },
    {
     "data": {
      "text/html": [
       "<div>\n",
       "<style scoped>\n",
       "    .dataframe tbody tr th:only-of-type {\n",
       "        vertical-align: middle;\n",
       "    }\n",
       "\n",
       "    .dataframe tbody tr th {\n",
       "        vertical-align: top;\n",
       "    }\n",
       "\n",
       "    .dataframe thead th {\n",
       "        text-align: right;\n",
       "    }\n",
       "</style>\n",
       "<table border=\"1\" class=\"dataframe\">\n",
       "  <thead>\n",
       "    <tr style=\"text-align: right;\">\n",
       "      <th></th>\n",
       "      <th>PassengerId</th>\n",
       "      <th>Survived</th>\n",
       "      <th>Pclass</th>\n",
       "      <th>Name</th>\n",
       "      <th>Sex</th>\n",
       "      <th>Age</th>\n",
       "      <th>SibSp</th>\n",
       "      <th>Parch</th>\n",
       "      <th>Ticket</th>\n",
       "      <th>Fare</th>\n",
       "      <th>Cabin</th>\n",
       "      <th>Embarked</th>\n",
       "    </tr>\n",
       "  </thead>\n",
       "  <tbody>\n",
       "    <tr>\n",
       "      <th>0</th>\n",
       "      <td>1</td>\n",
       "      <td>0</td>\n",
       "      <td>3</td>\n",
       "      <td>Braund, Mr. Owen Harris</td>\n",
       "      <td>male</td>\n",
       "      <td>22.0</td>\n",
       "      <td>1</td>\n",
       "      <td>0</td>\n",
       "      <td>A/5 21171</td>\n",
       "      <td>7.2500</td>\n",
       "      <td>NaN</td>\n",
       "      <td>S</td>\n",
       "    </tr>\n",
       "    <tr>\n",
       "      <th>1</th>\n",
       "      <td>2</td>\n",
       "      <td>1</td>\n",
       "      <td>1</td>\n",
       "      <td>Cumings, Mrs. John Bradley (Florence Briggs Th...</td>\n",
       "      <td>female</td>\n",
       "      <td>38.0</td>\n",
       "      <td>1</td>\n",
       "      <td>0</td>\n",
       "      <td>PC 17599</td>\n",
       "      <td>71.2833</td>\n",
       "      <td>C85</td>\n",
       "      <td>C</td>\n",
       "    </tr>\n",
       "    <tr>\n",
       "      <th>2</th>\n",
       "      <td>3</td>\n",
       "      <td>1</td>\n",
       "      <td>3</td>\n",
       "      <td>Heikkinen, Miss. Laina</td>\n",
       "      <td>female</td>\n",
       "      <td>26.0</td>\n",
       "      <td>0</td>\n",
       "      <td>0</td>\n",
       "      <td>STON/O2. 3101282</td>\n",
       "      <td>7.9250</td>\n",
       "      <td>NaN</td>\n",
       "      <td>S</td>\n",
       "    </tr>\n",
       "    <tr>\n",
       "      <th>3</th>\n",
       "      <td>4</td>\n",
       "      <td>1</td>\n",
       "      <td>1</td>\n",
       "      <td>Futrelle, Mrs. Jacques Heath (Lily May Peel)</td>\n",
       "      <td>female</td>\n",
       "      <td>35.0</td>\n",
       "      <td>1</td>\n",
       "      <td>0</td>\n",
       "      <td>113803</td>\n",
       "      <td>53.1000</td>\n",
       "      <td>C123</td>\n",
       "      <td>S</td>\n",
       "    </tr>\n",
       "    <tr>\n",
       "      <th>4</th>\n",
       "      <td>5</td>\n",
       "      <td>0</td>\n",
       "      <td>3</td>\n",
       "      <td>Allen, Mr. William Henry</td>\n",
       "      <td>male</td>\n",
       "      <td>35.0</td>\n",
       "      <td>0</td>\n",
       "      <td>0</td>\n",
       "      <td>373450</td>\n",
       "      <td>8.0500</td>\n",
       "      <td>NaN</td>\n",
       "      <td>S</td>\n",
       "    </tr>\n",
       "  </tbody>\n",
       "</table>\n",
       "</div>"
      ],
      "text/plain": [
       "   PassengerId  Survived  Pclass  \\\n",
       "0            1         0       3   \n",
       "1            2         1       1   \n",
       "2            3         1       3   \n",
       "3            4         1       1   \n",
       "4            5         0       3   \n",
       "\n",
       "                                                Name     Sex   Age  SibSp  \\\n",
       "0                            Braund, Mr. Owen Harris    male  22.0      1   \n",
       "1  Cumings, Mrs. John Bradley (Florence Briggs Th...  female  38.0      1   \n",
       "2                             Heikkinen, Miss. Laina  female  26.0      0   \n",
       "3       Futrelle, Mrs. Jacques Heath (Lily May Peel)  female  35.0      1   \n",
       "4                           Allen, Mr. William Henry    male  35.0      0   \n",
       "\n",
       "   Parch            Ticket     Fare Cabin Embarked  \n",
       "0      0         A/5 21171   7.2500   NaN        S  \n",
       "1      0          PC 17599  71.2833   C85        C  \n",
       "2      0  STON/O2. 3101282   7.9250   NaN        S  \n",
       "3      0            113803  53.1000  C123        S  \n",
       "4      0            373450   8.0500   NaN        S  "
      ]
     },
     "execution_count": 3,
     "metadata": {},
     "output_type": "execute_result"
    }
   ],
   "source": [
    "train = pd.read_csv('titanic/train.csv')\n",
    "test = pd.read_csv('titanic/test.csv')\n",
    "gender_submission = pd.read_csv('titanic/gender_submission.csv')\n",
    "\n",
    "print('Train data')\n",
    "train.head()"
   ]
  },
  {
   "cell_type": "code",
   "execution_count": 4,
   "id": "88205e9b",
   "metadata": {
    "_kg_hide-input": true,
    "execution": {
     "iopub.execute_input": "2023-01-04T17:01:02.327130Z",
     "iopub.status.busy": "2023-01-04T17:01:02.326483Z",
     "iopub.status.idle": "2023-01-04T17:01:02.349000Z",
     "shell.execute_reply": "2023-01-04T17:01:02.347541Z"
    },
    "papermill": {
     "duration": 0.044673,
     "end_time": "2023-01-04T17:01:02.351251",
     "exception": false,
     "start_time": "2023-01-04T17:01:02.306578",
     "status": "completed"
    },
    "tags": []
   },
   "outputs": [
    {
     "name": "stdout",
     "output_type": "stream",
     "text": [
      "Test data\n"
     ]
    },
    {
     "data": {
      "text/html": [
       "<div>\n",
       "<style scoped>\n",
       "    .dataframe tbody tr th:only-of-type {\n",
       "        vertical-align: middle;\n",
       "    }\n",
       "\n",
       "    .dataframe tbody tr th {\n",
       "        vertical-align: top;\n",
       "    }\n",
       "\n",
       "    .dataframe thead th {\n",
       "        text-align: right;\n",
       "    }\n",
       "</style>\n",
       "<table border=\"1\" class=\"dataframe\">\n",
       "  <thead>\n",
       "    <tr style=\"text-align: right;\">\n",
       "      <th></th>\n",
       "      <th>PassengerId</th>\n",
       "      <th>Pclass</th>\n",
       "      <th>Name</th>\n",
       "      <th>Sex</th>\n",
       "      <th>Age</th>\n",
       "      <th>SibSp</th>\n",
       "      <th>Parch</th>\n",
       "      <th>Ticket</th>\n",
       "      <th>Fare</th>\n",
       "      <th>Cabin</th>\n",
       "      <th>Embarked</th>\n",
       "      <th>Survived</th>\n",
       "    </tr>\n",
       "  </thead>\n",
       "  <tbody>\n",
       "    <tr>\n",
       "      <th>0</th>\n",
       "      <td>892</td>\n",
       "      <td>3</td>\n",
       "      <td>Kelly, Mr. James</td>\n",
       "      <td>male</td>\n",
       "      <td>34.5</td>\n",
       "      <td>0</td>\n",
       "      <td>0</td>\n",
       "      <td>330911</td>\n",
       "      <td>7.8292</td>\n",
       "      <td>NaN</td>\n",
       "      <td>Q</td>\n",
       "      <td>0</td>\n",
       "    </tr>\n",
       "    <tr>\n",
       "      <th>1</th>\n",
       "      <td>893</td>\n",
       "      <td>3</td>\n",
       "      <td>Wilkes, Mrs. James (Ellen Needs)</td>\n",
       "      <td>female</td>\n",
       "      <td>47.0</td>\n",
       "      <td>1</td>\n",
       "      <td>0</td>\n",
       "      <td>363272</td>\n",
       "      <td>7.0000</td>\n",
       "      <td>NaN</td>\n",
       "      <td>S</td>\n",
       "      <td>1</td>\n",
       "    </tr>\n",
       "    <tr>\n",
       "      <th>2</th>\n",
       "      <td>894</td>\n",
       "      <td>2</td>\n",
       "      <td>Myles, Mr. Thomas Francis</td>\n",
       "      <td>male</td>\n",
       "      <td>62.0</td>\n",
       "      <td>0</td>\n",
       "      <td>0</td>\n",
       "      <td>240276</td>\n",
       "      <td>9.6875</td>\n",
       "      <td>NaN</td>\n",
       "      <td>Q</td>\n",
       "      <td>0</td>\n",
       "    </tr>\n",
       "    <tr>\n",
       "      <th>3</th>\n",
       "      <td>895</td>\n",
       "      <td>3</td>\n",
       "      <td>Wirz, Mr. Albert</td>\n",
       "      <td>male</td>\n",
       "      <td>27.0</td>\n",
       "      <td>0</td>\n",
       "      <td>0</td>\n",
       "      <td>315154</td>\n",
       "      <td>8.6625</td>\n",
       "      <td>NaN</td>\n",
       "      <td>S</td>\n",
       "      <td>0</td>\n",
       "    </tr>\n",
       "    <tr>\n",
       "      <th>4</th>\n",
       "      <td>896</td>\n",
       "      <td>3</td>\n",
       "      <td>Hirvonen, Mrs. Alexander (Helga E Lindqvist)</td>\n",
       "      <td>female</td>\n",
       "      <td>22.0</td>\n",
       "      <td>1</td>\n",
       "      <td>1</td>\n",
       "      <td>3101298</td>\n",
       "      <td>12.2875</td>\n",
       "      <td>NaN</td>\n",
       "      <td>S</td>\n",
       "      <td>1</td>\n",
       "    </tr>\n",
       "  </tbody>\n",
       "</table>\n",
       "</div>"
      ],
      "text/plain": [
       "   PassengerId  Pclass                                          Name     Sex  \\\n",
       "0          892       3                              Kelly, Mr. James    male   \n",
       "1          893       3              Wilkes, Mrs. James (Ellen Needs)  female   \n",
       "2          894       2                     Myles, Mr. Thomas Francis    male   \n",
       "3          895       3                              Wirz, Mr. Albert    male   \n",
       "4          896       3  Hirvonen, Mrs. Alexander (Helga E Lindqvist)  female   \n",
       "\n",
       "    Age  SibSp  Parch   Ticket     Fare Cabin Embarked  Survived  \n",
       "0  34.5      0      0   330911   7.8292   NaN        Q         0  \n",
       "1  47.0      1      0   363272   7.0000   NaN        S         1  \n",
       "2  62.0      0      0   240276   9.6875   NaN        Q         0  \n",
       "3  27.0      0      0   315154   8.6625   NaN        S         0  \n",
       "4  22.0      1      1  3101298  12.2875   NaN        S         1  "
      ]
     },
     "execution_count": 4,
     "metadata": {},
     "output_type": "execute_result"
    }
   ],
   "source": [
    "# add data from gender_submission\n",
    "test['Survived'] = gender_submission['Survived']\n",
    "\n",
    "print('Test data')\n",
    "test.head()"
   ]
  },
  {
   "cell_type": "code",
   "execution_count": 5,
   "id": "07bf7632",
   "metadata": {
    "_kg_hide-input": true,
    "execution": {
     "iopub.execute_input": "2023-01-04T17:01:02.390164Z",
     "iopub.status.busy": "2023-01-04T17:01:02.389761Z",
     "iopub.status.idle": "2023-01-04T17:01:02.404533Z",
     "shell.execute_reply": "2023-01-04T17:01:02.403097Z"
    },
    "papermill": {
     "duration": 0.036915,
     "end_time": "2023-01-04T17:01:02.406766",
     "exception": false,
     "start_time": "2023-01-04T17:01:02.369851",
     "status": "completed"
    },
    "tags": []
   },
   "outputs": [
    {
     "name": "stdout",
     "output_type": "stream",
     "text": [
      "---Train data---\n",
      "Data Shape: 891 rows X 12 columns\n",
      "Total no. of passengers: 891\n",
      "Number of unique Passenger Classes: 3\n",
      "Number of unique Fare amounts: 248\n",
      "\n",
      "---Test data---\n",
      "Data Shape: 418 rows X 12 columns\n",
      "Total no. of passengers: 418\n",
      "Number of unique Passenger Classes: 3\n",
      "Number of unique Fare amounts: 169\n"
     ]
    }
   ],
   "source": [
    "print('---Train data---')\n",
    "print('Data Shape: {:,d} rows X {:d} columns'.format(train.shape[0], train.shape[1]))\n",
    "print('Total no. of passengers: {:,d}'.format(len(train)))\n",
    "# print('Number of unique tickets: {:d}'.format(train['Ticket'].nunique()))\n",
    "print('Number of unique Passenger Classes: {:,d}'.format(train['Pclass'].nunique()))\n",
    "print('Number of unique Fare amounts: {:,d}'.format(train['Fare'].nunique()))\n",
    "print()\n",
    "\n",
    "print('---Test data---')\n",
    "print('Data Shape: {:,d} rows X {:d} columns'.format(test.shape[0], test.shape[1]))\n",
    "print('Total no. of passengers: {:,d}'.format(len(test)))\n",
    "# print('Number of unique tickets: {:,d}'.format(test['Ticket'].nunique()))\n",
    "print('Number of unique Passenger Classes: {:,d}'.format(test['Pclass'].nunique()))\n",
    "print('Number of unique Fare amounts: {:,d}'.format(test['Fare'].nunique()))"
   ]
  },
  {
   "cell_type": "markdown",
   "id": "f8427799",
   "metadata": {
    "papermill": {
     "duration": 0.018265,
     "end_time": "2023-01-04T17:01:02.443723",
     "exception": false,
     "start_time": "2023-01-04T17:01:02.425458",
     "status": "completed"
    },
    "tags": []
   },
   "source": [
    "## 1.1 Feature Exploration\n",
    "\n",
    "Categorical and Continuos Features"
   ]
  },
  {
   "cell_type": "code",
   "execution_count": 6,
   "id": "5af3b710",
   "metadata": {
    "_kg_hide-input": true,
    "execution": {
     "iopub.execute_input": "2023-01-04T17:01:02.483168Z",
     "iopub.status.busy": "2023-01-04T17:01:02.482367Z",
     "iopub.status.idle": "2023-01-04T17:01:04.580663Z",
     "shell.execute_reply": "2023-01-04T17:01:04.579833Z"
    },
    "papermill": {
     "duration": 2.120917,
     "end_time": "2023-01-04T17:01:04.583260",
     "exception": false,
     "start_time": "2023-01-04T17:01:02.462343",
     "status": "completed"
    },
    "tags": []
   },
   "outputs": [
    {
     "data": {
      "image/png": "[encoded data removed]",
      "text/plain": [
       "<Figure size 1500x2500 with 8 Axes>"
      ]
     },
     "metadata": {},
     "output_type": "display_data"
    }
   ],
   "source": [
    "fig, axs = plt.subplots(nrows = 4, ncols = 2, figsize =(15,25))\n",
    "\n",
    "train_copy = train.copy()\n",
    "features = ['Survived', 'Pclass', 'Sex', 'Age', 'SibSp', 'Parch', 'Fare', 'Embarked']\n",
    "axs = axs.flatten()\n",
    "\n",
    "for i, feature in enumerate(features):\n",
    "    _ = sns.histplot(train_copy, x=\"{}\".format(feature), ax=axs[i])\n",
    "    _ = axs[i].set_title(\"{} Distribution\".format(feature))\n",
    "    _ = axs[i].set_ylabel(\"\")\n",
    "    _ = axs[i].set_xlabel(\"\")"
   ]
  },
  {
   "cell_type": "markdown",
   "id": "8eb43da6",
   "metadata": {
    "papermill": {
     "duration": 0.021007,
     "end_time": "2023-01-04T17:01:05.073350",
     "exception": false,
     "start_time": "2023-01-04T17:01:05.052343",
     "status": "completed"
    },
    "tags": []
   },
   "source": [
    "## 2 - Missing Data"
   ]
  },
  {
   "cell_type": "code",
   "execution_count": 7,
   "id": "4bb43741",
   "metadata": {
    "_kg_hide-input": true,
    "execution": {
     "iopub.execute_input": "2023-01-04T17:01:05.116919Z",
     "iopub.status.busy": "2023-01-04T17:01:05.116455Z",
     "iopub.status.idle": "2023-01-04T17:01:05.128536Z",
     "shell.execute_reply": "2023-01-04T17:01:05.127164Z"
    },
    "papermill": {
     "duration": 0.037181,
     "end_time": "2023-01-04T17:01:05.130990",
     "exception": false,
     "start_time": "2023-01-04T17:01:05.093809",
     "status": "completed"
    },
    "tags": []
   },
   "outputs": [
    {
     "name": "stdout",
     "output_type": "stream",
     "text": [
      "Percentage of missing data per feature in the train set:\n"
     ]
    },
    {
     "data": {
      "text/plain": [
       "PassengerId     0.000000\n",
       "Survived        0.000000\n",
       "Pclass          0.000000\n",
       "Name            0.000000\n",
       "Sex             0.000000\n",
       "Age            19.865320\n",
       "SibSp           0.000000\n",
       "Parch           0.000000\n",
       "Ticket          0.000000\n",
       "Fare            0.000000\n",
       "Cabin          77.104377\n",
       "Embarked        0.224467\n",
       "dtype: float64"
      ]
     },
     "execution_count": 7,
     "metadata": {},
     "output_type": "execute_result"
    }
   ],
   "source": [
    "print('Percentage of missing data per feature in the train set:')\n",
    "100 * train.isnull().sum() / len(train)"
   ]
  },
  {
   "cell_type": "code",
   "execution_count": 8,
   "id": "c49b6383",
   "metadata": {
    "_kg_hide-input": true,
    "execution": {
     "iopub.execute_input": "2023-01-04T17:01:05.174126Z",
     "iopub.status.busy": "2023-01-04T17:01:05.173128Z",
     "iopub.status.idle": "2023-01-04T17:01:05.185542Z",
     "shell.execute_reply": "2023-01-04T17:01:05.184136Z"
    },
    "papermill": {
     "duration": 0.036453,
     "end_time": "2023-01-04T17:01:05.188135",
     "exception": false,
     "start_time": "2023-01-04T17:01:05.151682",
     "status": "completed"
    },
    "tags": []
   },
   "outputs": [
    {
     "name": "stdout",
     "output_type": "stream",
     "text": [
      "Percentage of missing data per feature in the test set:\n"
     ]
    },
    {
     "data": {
      "text/plain": [
       "PassengerId     0.000000\n",
       "Pclass          0.000000\n",
       "Name            0.000000\n",
       "Sex             0.000000\n",
       "Age            20.574163\n",
       "SibSp           0.000000\n",
       "Parch           0.000000\n",
       "Ticket          0.000000\n",
       "Fare            0.239234\n",
       "Cabin          78.229665\n",
       "Embarked        0.000000\n",
       "Survived        0.000000\n",
       "dtype: float64"
      ]
     },
     "execution_count": 8,
     "metadata": {},
     "output_type": "execute_result"
    }
   ],
   "source": [
    "print('Percentage of missing data per feature in the test set:')\n",
    "100 * test.isnull().sum() / len(test)"
   ]
  },
  {
   "cell_type": "markdown",
   "id": "8701e99c",
   "metadata": {
    "papermill": {
     "duration": 0.020619,
     "end_time": "2023-01-04T17:01:05.232248",
     "exception": false,
     "start_time": "2023-01-04T17:01:05.211629",
     "status": "completed"
    },
    "tags": []
   },
   "source": [
    "## 2.1 Age (Train & Test)"
   ]
  },
  {
   "cell_type": "code",
   "execution_count": 9,
   "id": "05b2648d",
   "metadata": {
    "_kg_hide-input": true,
    "execution": {
     "iopub.execute_input": "2023-01-04T17:01:05.275523Z",
     "iopub.status.busy": "2023-01-04T17:01:05.274763Z",
     "iopub.status.idle": "2023-01-04T17:01:05.357554Z",
     "shell.execute_reply": "2023-01-04T17:01:05.356457Z"
    },
    "papermill": {
     "duration": 0.106724,
     "end_time": "2023-01-04T17:01:05.359722",
     "exception": false,
     "start_time": "2023-01-04T17:01:05.252998",
     "status": "completed"
    },
    "tags": []
   },
   "outputs": [
    {
     "data": {
      "text/html": [
       "<style type=\"text/css\">\n",
       "#T_452da_row0_col1 {\n",
       "  width: 10em;\n",
       "  background: linear-gradient(90deg, #7BCC70 100.0%, transparent 100.0%);\n",
       "}\n",
       "#T_452da_row0_col2 {\n",
       "  background-color: #fff5f0;\n",
       "  color: #000000;\n",
       "}\n",
       "#T_452da_row0_col5 {\n",
       "  background-color: #3b4cc0;\n",
       "  color: #f1f1f1;\n",
       "}\n",
       "</style>\n",
       "<table id=\"T_452da\">\n",
       "  <thead>\n",
       "    <tr>\n",
       "      <th class=\"blank level0\" >&nbsp;</th>\n",
       "      <th id=\"T_452da_level0_col0\" class=\"col_heading level0 col0\" >count</th>\n",
       "      <th id=\"T_452da_level0_col1\" class=\"col_heading level0 col1\" >mean</th>\n",
       "      <th id=\"T_452da_level0_col2\" class=\"col_heading level0 col2\" >std</th>\n",
       "      <th id=\"T_452da_level0_col3\" class=\"col_heading level0 col3\" >min</th>\n",
       "      <th id=\"T_452da_level0_col4\" class=\"col_heading level0 col4\" >25%</th>\n",
       "      <th id=\"T_452da_level0_col5\" class=\"col_heading level0 col5\" >50%</th>\n",
       "      <th id=\"T_452da_level0_col6\" class=\"col_heading level0 col6\" >75%</th>\n",
       "      <th id=\"T_452da_level0_col7\" class=\"col_heading level0 col7\" >max</th>\n",
       "    </tr>\n",
       "  </thead>\n",
       "  <tbody>\n",
       "    <tr>\n",
       "      <th id=\"T_452da_level0_row0\" class=\"row_heading level0 row0\" >Age</th>\n",
       "      <td id=\"T_452da_row0_col0\" class=\"data row0 col0\" >714.000000</td>\n",
       "      <td id=\"T_452da_row0_col1\" class=\"data row0 col1\" >29.699118</td>\n",
       "      <td id=\"T_452da_row0_col2\" class=\"data row0 col2\" >14.526497</td>\n",
       "      <td id=\"T_452da_row0_col3\" class=\"data row0 col3\" >0.420000</td>\n",
       "      <td id=\"T_452da_row0_col4\" class=\"data row0 col4\" >20.125000</td>\n",
       "      <td id=\"T_452da_row0_col5\" class=\"data row0 col5\" >28.000000</td>\n",
       "      <td id=\"T_452da_row0_col6\" class=\"data row0 col6\" >38.000000</td>\n",
       "      <td id=\"T_452da_row0_col7\" class=\"data row0 col7\" >80.000000</td>\n",
       "    </tr>\n",
       "  </tbody>\n",
       "</table>\n"
      ],
      "text/plain": [
       "<pandas.io.formats.style.Styler at 0x1d0d20b48c0>"
      ]
     },
     "execution_count": 9,
     "metadata": {},
     "output_type": "execute_result"
    }
   ],
   "source": [
    "features = [\"Age\"]\n",
    "train[features].describe().T.style.bar(\n",
    "    subset=['mean'], color='#7BCC70')\\\n",
    "    .background_gradient(subset=['std'], cmap='Reds')\\\n",
    "    .background_gradient(subset=['50%'], cmap='coolwarm')"
   ]
  },
  {
   "cell_type": "code",
   "execution_count": 10,
   "id": "8858c235",
   "metadata": {
    "_kg_hide-input": true,
    "execution": {
     "iopub.execute_input": "2023-01-04T17:01:05.403560Z",
     "iopub.status.busy": "2023-01-04T17:01:05.402517Z",
     "iopub.status.idle": "2023-01-04T17:01:05.749794Z",
     "shell.execute_reply": "2023-01-04T17:01:05.748544Z"
    },
    "papermill": {
     "duration": 0.371667,
     "end_time": "2023-01-04T17:01:05.752381",
     "exception": false,
     "start_time": "2023-01-04T17:01:05.380714",
     "status": "completed"
    },
    "tags": []
   },
   "outputs": [
    {
     "name": "stderr",
     "output_type": "stream",
     "text": [
      "C:\\Users\\bartw\\AppData\\Local\\Temp\\ipykernel_6328\\4213715170.py:2: UserWarning: Ignoring `palette` because no `hue` variable has been assigned.\n",
      "  sns.histplot(x = 'Age', data = train, palette = 'flare', bins = 40)\n"
     ]
    },
    {
     "data": {
      "text/plain": [
       "<Axes: xlabel='Age', ylabel='Count'>"
      ]
     },
     "execution_count": 10,
     "metadata": {},
     "output_type": "execute_result"
    },
    {
     "data": {
      "image/png": "[encoded data removed]",
      "text/plain": [
       "<Figure size 1500x800 with 1 Axes>"
      ]
     },
     "metadata": {},
     "output_type": "display_data"
    }
   ],
   "source": [
    "plt.figure(figsize = (15, 8))\n",
    "sns.histplot(x = 'Age', data = train, palette = 'flare', bins = 40)"
   ]
  },
  {
   "cell_type": "code",
   "execution_count": 11,
   "id": "b6752bf3",
   "metadata": {
    "_kg_hide-input": true,
    "execution": {
     "iopub.execute_input": "2023-01-04T17:01:05.797336Z",
     "iopub.status.busy": "2023-01-04T17:01:05.796529Z",
     "iopub.status.idle": "2023-01-04T17:01:05.827390Z",
     "shell.execute_reply": "2023-01-04T17:01:05.825579Z"
    },
    "papermill": {
     "duration": 0.057036,
     "end_time": "2023-01-04T17:01:05.830394",
     "exception": false,
     "start_time": "2023-01-04T17:01:05.773358",
     "status": "completed"
    },
    "tags": []
   },
   "outputs": [
    {
     "name": "stdout",
     "output_type": "stream",
     "text": [
      "Age grouped by Pclass:\n"
     ]
    },
    {
     "data": {
      "text/html": [
       "<style type=\"text/css\">\n",
       "#T_2e9e1_row0_col1 {\n",
       "  width: 10em;\n",
       "  background: linear-gradient(90deg, #7BCC70 100.0%, transparent 100.0%);\n",
       "}\n",
       "#T_2e9e1_row0_col2, #T_2e9e1_row0_col5 {\n",
       "  background-color: #4b2362;\n",
       "  color: #f1f1f1;\n",
       "}\n",
       "#T_2e9e1_row1_col1 {\n",
       "  width: 10em;\n",
       "  background: linear-gradient(90deg, #7BCC70 78.1%, transparent 78.1%);\n",
       "}\n",
       "#T_2e9e1_row1_col2 {\n",
       "  background-color: #9d3670;\n",
       "  color: #f1f1f1;\n",
       "}\n",
       "#T_2e9e1_row1_col5 {\n",
       "  background-color: #d8525e;\n",
       "  color: #f1f1f1;\n",
       "}\n",
       "#T_2e9e1_row2_col1 {\n",
       "  width: 10em;\n",
       "  background: linear-gradient(90deg, #7BCC70 65.8%, transparent 65.8%);\n",
       "}\n",
       "#T_2e9e1_row2_col2, #T_2e9e1_row2_col5 {\n",
       "  background-color: #edb081;\n",
       "  color: #000000;\n",
       "}\n",
       "</style>\n",
       "<table id=\"T_2e9e1\">\n",
       "  <thead>\n",
       "    <tr>\n",
       "      <th class=\"blank level0\" >&nbsp;</th>\n",
       "      <th id=\"T_2e9e1_level0_col0\" class=\"col_heading level0 col0\" >count</th>\n",
       "      <th id=\"T_2e9e1_level0_col1\" class=\"col_heading level0 col1\" >mean</th>\n",
       "      <th id=\"T_2e9e1_level0_col2\" class=\"col_heading level0 col2\" >std</th>\n",
       "      <th id=\"T_2e9e1_level0_col3\" class=\"col_heading level0 col3\" >min</th>\n",
       "      <th id=\"T_2e9e1_level0_col4\" class=\"col_heading level0 col4\" >25%</th>\n",
       "      <th id=\"T_2e9e1_level0_col5\" class=\"col_heading level0 col5\" >50%</th>\n",
       "      <th id=\"T_2e9e1_level0_col6\" class=\"col_heading level0 col6\" >75%</th>\n",
       "      <th id=\"T_2e9e1_level0_col7\" class=\"col_heading level0 col7\" >max</th>\n",
       "    </tr>\n",
       "    <tr>\n",
       "      <th class=\"index_name level0\" >Pclass</th>\n",
       "      <th class=\"blank col0\" >&nbsp;</th>\n",
       "      <th class=\"blank col1\" >&nbsp;</th>\n",
       "      <th class=\"blank col2\" >&nbsp;</th>\n",
       "      <th class=\"blank col3\" >&nbsp;</th>\n",
       "      <th class=\"blank col4\" >&nbsp;</th>\n",
       "      <th class=\"blank col5\" >&nbsp;</th>\n",
       "      <th class=\"blank col6\" >&nbsp;</th>\n",
       "      <th class=\"blank col7\" >&nbsp;</th>\n",
       "    </tr>\n",
       "  </thead>\n",
       "  <tbody>\n",
       "    <tr>\n",
       "      <th id=\"T_2e9e1_level0_row0\" class=\"row_heading level0 row0\" >1</th>\n",
       "      <td id=\"T_2e9e1_row0_col0\" class=\"data row0 col0\" >186.000000</td>\n",
       "      <td id=\"T_2e9e1_row0_col1\" class=\"data row0 col1\" >38.233441</td>\n",
       "      <td id=\"T_2e9e1_row0_col2\" class=\"data row0 col2\" >14.802856</td>\n",
       "      <td id=\"T_2e9e1_row0_col3\" class=\"data row0 col3\" >0.920000</td>\n",
       "      <td id=\"T_2e9e1_row0_col4\" class=\"data row0 col4\" >27.000000</td>\n",
       "      <td id=\"T_2e9e1_row0_col5\" class=\"data row0 col5\" >37.000000</td>\n",
       "      <td id=\"T_2e9e1_row0_col6\" class=\"data row0 col6\" >49.000000</td>\n",
       "      <td id=\"T_2e9e1_row0_col7\" class=\"data row0 col7\" >80.000000</td>\n",
       "    </tr>\n",
       "    <tr>\n",
       "      <th id=\"T_2e9e1_level0_row1\" class=\"row_heading level0 row1\" >2</th>\n",
       "      <td id=\"T_2e9e1_row1_col0\" class=\"data row1 col0\" >173.000000</td>\n",
       "      <td id=\"T_2e9e1_row1_col1\" class=\"data row1 col1\" >29.877630</td>\n",
       "      <td id=\"T_2e9e1_row1_col2\" class=\"data row1 col2\" >14.001077</td>\n",
       "      <td id=\"T_2e9e1_row1_col3\" class=\"data row1 col3\" >0.670000</td>\n",
       "      <td id=\"T_2e9e1_row1_col4\" class=\"data row1 col4\" >23.000000</td>\n",
       "      <td id=\"T_2e9e1_row1_col5\" class=\"data row1 col5\" >29.000000</td>\n",
       "      <td id=\"T_2e9e1_row1_col6\" class=\"data row1 col6\" >36.000000</td>\n",
       "      <td id=\"T_2e9e1_row1_col7\" class=\"data row1 col7\" >70.000000</td>\n",
       "    </tr>\n",
       "    <tr>\n",
       "      <th id=\"T_2e9e1_level0_row2\" class=\"row_heading level0 row2\" >3</th>\n",
       "      <td id=\"T_2e9e1_row2_col0\" class=\"data row2 col0\" >355.000000</td>\n",
       "      <td id=\"T_2e9e1_row2_col1\" class=\"data row2 col1\" >25.140620</td>\n",
       "      <td id=\"T_2e9e1_row2_col2\" class=\"data row2 col2\" >12.495398</td>\n",
       "      <td id=\"T_2e9e1_row2_col3\" class=\"data row2 col3\" >0.420000</td>\n",
       "      <td id=\"T_2e9e1_row2_col4\" class=\"data row2 col4\" >18.000000</td>\n",
       "      <td id=\"T_2e9e1_row2_col5\" class=\"data row2 col5\" >24.000000</td>\n",
       "      <td id=\"T_2e9e1_row2_col6\" class=\"data row2 col6\" >32.000000</td>\n",
       "      <td id=\"T_2e9e1_row2_col7\" class=\"data row2 col7\" >74.000000</td>\n",
       "    </tr>\n",
       "  </tbody>\n",
       "</table>\n"
      ],
      "text/plain": [
       "<pandas.io.formats.style.Styler at 0x1d0cc17f380>"
      ]
     },
     "execution_count": 11,
     "metadata": {},
     "output_type": "execute_result"
    }
   ],
   "source": [
    "print('Age grouped by Pclass:') \n",
    "train.groupby('Pclass')['Age'].describe().style.bar(\n",
    "     subset=['mean'], color = '#7BCC70')\\\n",
    "    .background_gradient(subset = ['std'], cmap = 'flare')\\\n",
    "    .background_gradient(subset = ['50%'], cmap = 'flare') "
   ]
  },
  {
   "cell_type": "code",
   "execution_count": 12,
   "id": "206453fd",
   "metadata": {
    "_kg_hide-input": true,
    "execution": {
     "iopub.execute_input": "2023-01-04T17:01:05.876719Z",
     "iopub.status.busy": "2023-01-04T17:01:05.875345Z",
     "iopub.status.idle": "2023-01-04T17:01:05.902468Z",
     "shell.execute_reply": "2023-01-04T17:01:05.901260Z"
    },
    "papermill": {
     "duration": 0.053018,
     "end_time": "2023-01-04T17:01:05.905066",
     "exception": false,
     "start_time": "2023-01-04T17:01:05.852048",
     "status": "completed"
    },
    "tags": []
   },
   "outputs": [
    {
     "name": "stdout",
     "output_type": "stream",
     "text": [
      "Age grouped by Sex:\n"
     ]
    },
    {
     "data": {
      "text/html": [
       "<style type=\"text/css\">\n",
       "#T_2530d_row0_col1 {\n",
       "  width: 10em;\n",
       "  background: linear-gradient(90deg, #7BCC70 90.9%, transparent 90.9%);\n",
       "}\n",
       "#T_2530d_row0_col2, #T_2530d_row0_col5 {\n",
       "  background-color: #edb081;\n",
       "  color: #000000;\n",
       "}\n",
       "#T_2530d_row1_col1 {\n",
       "  width: 10em;\n",
       "  background: linear-gradient(90deg, #7BCC70 100.0%, transparent 100.0%);\n",
       "}\n",
       "#T_2530d_row1_col2, #T_2530d_row1_col5 {\n",
       "  background-color: #4b2362;\n",
       "  color: #f1f1f1;\n",
       "}\n",
       "</style>\n",
       "<table id=\"T_2530d\">\n",
       "  <thead>\n",
       "    <tr>\n",
       "      <th class=\"blank level0\" >&nbsp;</th>\n",
       "      <th id=\"T_2530d_level0_col0\" class=\"col_heading level0 col0\" >count</th>\n",
       "      <th id=\"T_2530d_level0_col1\" class=\"col_heading level0 col1\" >mean</th>\n",
       "      <th id=\"T_2530d_level0_col2\" class=\"col_heading level0 col2\" >std</th>\n",
       "      <th id=\"T_2530d_level0_col3\" class=\"col_heading level0 col3\" >min</th>\n",
       "      <th id=\"T_2530d_level0_col4\" class=\"col_heading level0 col4\" >25%</th>\n",
       "      <th id=\"T_2530d_level0_col5\" class=\"col_heading level0 col5\" >50%</th>\n",
       "      <th id=\"T_2530d_level0_col6\" class=\"col_heading level0 col6\" >75%</th>\n",
       "      <th id=\"T_2530d_level0_col7\" class=\"col_heading level0 col7\" >max</th>\n",
       "    </tr>\n",
       "    <tr>\n",
       "      <th class=\"index_name level0\" >Sex</th>\n",
       "      <th class=\"blank col0\" >&nbsp;</th>\n",
       "      <th class=\"blank col1\" >&nbsp;</th>\n",
       "      <th class=\"blank col2\" >&nbsp;</th>\n",
       "      <th class=\"blank col3\" >&nbsp;</th>\n",
       "      <th class=\"blank col4\" >&nbsp;</th>\n",
       "      <th class=\"blank col5\" >&nbsp;</th>\n",
       "      <th class=\"blank col6\" >&nbsp;</th>\n",
       "      <th class=\"blank col7\" >&nbsp;</th>\n",
       "    </tr>\n",
       "  </thead>\n",
       "  <tbody>\n",
       "    <tr>\n",
       "      <th id=\"T_2530d_level0_row0\" class=\"row_heading level0 row0\" >female</th>\n",
       "      <td id=\"T_2530d_row0_col0\" class=\"data row0 col0\" >261.000000</td>\n",
       "      <td id=\"T_2530d_row0_col1\" class=\"data row0 col1\" >27.915709</td>\n",
       "      <td id=\"T_2530d_row0_col2\" class=\"data row0 col2\" >14.110146</td>\n",
       "      <td id=\"T_2530d_row0_col3\" class=\"data row0 col3\" >0.750000</td>\n",
       "      <td id=\"T_2530d_row0_col4\" class=\"data row0 col4\" >18.000000</td>\n",
       "      <td id=\"T_2530d_row0_col5\" class=\"data row0 col5\" >27.000000</td>\n",
       "      <td id=\"T_2530d_row0_col6\" class=\"data row0 col6\" >37.000000</td>\n",
       "      <td id=\"T_2530d_row0_col7\" class=\"data row0 col7\" >63.000000</td>\n",
       "    </tr>\n",
       "    <tr>\n",
       "      <th id=\"T_2530d_level0_row1\" class=\"row_heading level0 row1\" >male</th>\n",
       "      <td id=\"T_2530d_row1_col0\" class=\"data row1 col0\" >453.000000</td>\n",
       "      <td id=\"T_2530d_row1_col1\" class=\"data row1 col1\" >30.726645</td>\n",
       "      <td id=\"T_2530d_row1_col2\" class=\"data row1 col2\" >14.678201</td>\n",
       "      <td id=\"T_2530d_row1_col3\" class=\"data row1 col3\" >0.420000</td>\n",
       "      <td id=\"T_2530d_row1_col4\" class=\"data row1 col4\" >21.000000</td>\n",
       "      <td id=\"T_2530d_row1_col5\" class=\"data row1 col5\" >29.000000</td>\n",
       "      <td id=\"T_2530d_row1_col6\" class=\"data row1 col6\" >39.000000</td>\n",
       "      <td id=\"T_2530d_row1_col7\" class=\"data row1 col7\" >80.000000</td>\n",
       "    </tr>\n",
       "  </tbody>\n",
       "</table>\n"
      ],
      "text/plain": [
       "<pandas.io.formats.style.Styler at 0x1d0cfe73aa0>"
      ]
     },
     "execution_count": 12,
     "metadata": {},
     "output_type": "execute_result"
    }
   ],
   "source": [
    " print('Age grouped by Sex:') \n",
    "train.groupby('Sex')['Age'].describe().style.bar(\n",
    "     subset=['mean'], color = '#7BCC70')\\\n",
    "    .background_gradient(subset = ['std'], cmap = 'flare')\\\n",
    "    .background_gradient(subset = ['50%'], cmap = 'flare') "
   ]
  },
  {
   "cell_type": "code",
   "execution_count": 13,
   "id": "d669bdf0",
   "metadata": {
    "execution": {
     "iopub.execute_input": "2023-01-04T17:01:05.950930Z",
     "iopub.status.busy": "2023-01-04T17:01:05.949932Z",
     "iopub.status.idle": "2023-01-04T17:01:05.965642Z",
     "shell.execute_reply": "2023-01-04T17:01:05.964555Z"
    },
    "papermill": {
     "duration": 0.041488,
     "end_time": "2023-01-04T17:01:05.968262",
     "exception": false,
     "start_time": "2023-01-04T17:01:05.926774",
     "status": "completed"
    },
    "tags": []
   },
   "outputs": [
    {
     "name": "stdout",
     "output_type": "stream",
     "text": [
      "Age grouped by Pclass and Sex in the train data:\n"
     ]
    },
    {
     "data": {
      "text/plain": [
       "Pclass  Sex   \n",
       "1       female    34.611765\n",
       "        male      41.281386\n",
       "2       female    28.722973\n",
       "        male      30.740707\n",
       "3       female    21.750000\n",
       "        male      26.507589\n",
       "Name: Age, dtype: float64"
      ]
     },
     "execution_count": 13,
     "metadata": {},
     "output_type": "execute_result"
    }
   ],
   "source": [
    "# utility \n",
    "data_train = train.groupby(['Pclass','Sex'])['Age'].mean()\n",
    "print(\"Age grouped by Pclass and Sex in the train data:\")\n",
    "data_train"
   ]
  },
  {
   "cell_type": "code",
   "execution_count": 14,
   "id": "ba0fca1b",
   "metadata": {
    "_kg_hide-input": true,
    "execution": {
     "iopub.execute_input": "2023-01-04T17:01:06.014176Z",
     "iopub.status.busy": "2023-01-04T17:01:06.013780Z",
     "iopub.status.idle": "2023-01-04T17:01:06.026569Z",
     "shell.execute_reply": "2023-01-04T17:01:06.025143Z"
    },
    "papermill": {
     "duration": 0.039349,
     "end_time": "2023-01-04T17:01:06.029708",
     "exception": false,
     "start_time": "2023-01-04T17:01:05.990359",
     "status": "completed"
    },
    "tags": []
   },
   "outputs": [
    {
     "name": "stdout",
     "output_type": "stream",
     "text": [
      "Age grouped by Pclass and Sex in the test data:\n"
     ]
    },
    {
     "data": {
      "text/plain": [
       "Pclass  Sex   \n",
       "1       female    41.333333\n",
       "        male      40.520000\n",
       "2       female    24.376552\n",
       "        male      30.940678\n",
       "3       female    23.073400\n",
       "        male      24.525104\n",
       "Name: Age, dtype: float64"
      ]
     },
     "execution_count": 14,
     "metadata": {},
     "output_type": "execute_result"
    }
   ],
   "source": [
    "data_test = test.groupby(['Pclass','Sex'])['Age'].mean()\n",
    "print(\"Age grouped by Pclass and Sex in the test data:\")\n",
    "data_test"
   ]
  },
  {
   "cell_type": "code",
   "execution_count": 15,
   "id": "01819c7c",
   "metadata": {
    "execution": {
     "iopub.execute_input": "2023-01-04T17:01:06.078587Z",
     "iopub.status.busy": "2023-01-04T17:01:06.077711Z",
     "iopub.status.idle": "2023-01-04T17:01:06.117968Z",
     "shell.execute_reply": "2023-01-04T17:01:06.116781Z"
    },
    "papermill": {
     "duration": 0.068253,
     "end_time": "2023-01-04T17:01:06.120854",
     "exception": false,
     "start_time": "2023-01-04T17:01:06.052601",
     "status": "completed"
    },
    "tags": []
   },
   "outputs": [],
   "source": [
    "# function to fill null age values in the train set\n",
    "def fill_train_age(pclass, sex, age):\n",
    "    '''\n",
    "    takes in the pclass, sex and age \n",
    "    if the age is null, then extracts the age from 'data'and returns the corrosponding age\n",
    "    else returns the original age\n",
    "    '''\n",
    "    if np.isnan(age): \n",
    "        return data_train.loc[(pclass, sex)]\n",
    "    else: \n",
    "        return age\n",
    "    \n",
    "# filling the missing values\n",
    "train['Age'] = train.apply(lambda x: fill_train_age(x['Pclass'], x['Sex'], x['Age']), axis=1)       "
   ]
  },
  {
   "cell_type": "code",
   "execution_count": 16,
   "id": "e6764a1d",
   "metadata": {
    "execution": {
     "iopub.execute_input": "2023-01-04T17:01:06.167179Z",
     "iopub.status.busy": "2023-01-04T17:01:06.166474Z",
     "iopub.status.idle": "2023-01-04T17:01:06.188974Z",
     "shell.execute_reply": "2023-01-04T17:01:06.188048Z"
    },
    "papermill": {
     "duration": 0.048726,
     "end_time": "2023-01-04T17:01:06.191585",
     "exception": false,
     "start_time": "2023-01-04T17:01:06.142859",
     "status": "completed"
    },
    "tags": []
   },
   "outputs": [],
   "source": [
    "# function to fill null age values in the test set\n",
    "def fill_test_age(pclass, sex, age):\n",
    "    '''\n",
    "    takes in the pclass, sex and age \n",
    "    if the age is null, then extracts the age from 'data'and returns the corrosponding age\n",
    "    else returns the original age\n",
    "    '''\n",
    "    if np.isnan(age): \n",
    "        return data_test.loc[(pclass, sex)]\n",
    "    else: \n",
    "        return age\n",
    "\n",
    "# filling the missing values\n",
    "test['Age'] = test.apply(lambda x: fill_test_age(x['Pclass'], x['Sex'], x['Age']), axis=1)            "
   ]
  },
  {
   "cell_type": "markdown",
   "id": "f22534d3",
   "metadata": {
    "papermill": {
     "duration": 0.021956,
     "end_time": "2023-01-04T17:01:06.235581",
     "exception": false,
     "start_time": "2023-01-04T17:01:06.213625",
     "status": "completed"
    },
    "tags": []
   },
   "source": [
    "## 2.2 Fare (Test only)"
   ]
  },
  {
   "cell_type": "code",
   "execution_count": 17,
   "id": "b984da0b",
   "metadata": {
    "execution": {
     "iopub.execute_input": "2023-01-04T17:01:06.281417Z",
     "iopub.status.busy": "2023-01-04T17:01:06.280758Z",
     "iopub.status.idle": "2023-01-04T17:01:06.297116Z",
     "shell.execute_reply": "2023-01-04T17:01:06.296094Z"
    },
    "papermill": {
     "duration": 0.042469,
     "end_time": "2023-01-04T17:01:06.299812",
     "exception": false,
     "start_time": "2023-01-04T17:01:06.257343",
     "status": "completed"
    },
    "tags": []
   },
   "outputs": [],
   "source": [
    "# function to fill missing fare in test dataset\n",
    "def fill_fare(fare):\n",
    "    '''\n",
    "    takes in fare if null\n",
    "    returns the most common value\n",
    "    '''\n",
    "  \n",
    "    if np.isnan(fare):\n",
    "        return round(test['Fare']).value_counts().max()\n",
    "    else:\n",
    "        return fare\n",
    "    \n",
    "test['Fare'] = test.apply(lambda x: fill_fare(x['Fare']), axis=1)  "
   ]
  },
  {
   "cell_type": "markdown",
   "id": "b7da87d8",
   "metadata": {
    "papermill": {
     "duration": 0.02149,
     "end_time": "2023-01-04T17:01:06.343468",
     "exception": false,
     "start_time": "2023-01-04T17:01:06.321978",
     "status": "completed"
    },
    "tags": []
   },
   "source": [
    "## 2.3 Embarked (Train only)"
   ]
  },
  {
   "cell_type": "code",
   "execution_count": 18,
   "id": "276356fe",
   "metadata": {
    "execution": {
     "iopub.execute_input": "2023-01-04T17:01:06.388929Z",
     "iopub.status.busy": "2023-01-04T17:01:06.388465Z",
     "iopub.status.idle": "2023-01-04T17:01:06.394682Z",
     "shell.execute_reply": "2023-01-04T17:01:06.393384Z"
    },
    "papermill": {
     "duration": 0.031591,
     "end_time": "2023-01-04T17:01:06.396849",
     "exception": false,
     "start_time": "2023-01-04T17:01:06.365258",
     "status": "completed"
    },
    "tags": []
   },
   "outputs": [],
   "source": [
    "# storing the most common 'Embarked' value\n",
    "common_value = train['Embarked'].value_counts().idxmax()"
   ]
  },
  {
   "cell_type": "code",
   "execution_count": 19,
   "id": "7eeb4bb9",
   "metadata": {
    "execution": {
     "iopub.execute_input": "2023-01-04T17:01:06.443119Z",
     "iopub.status.busy": "2023-01-04T17:01:06.442383Z",
     "iopub.status.idle": "2023-01-04T17:01:06.448548Z",
     "shell.execute_reply": "2023-01-04T17:01:06.447662Z"
    },
    "papermill": {
     "duration": 0.031988,
     "end_time": "2023-01-04T17:01:06.451018",
     "exception": false,
     "start_time": "2023-01-04T17:01:06.419030",
     "status": "completed"
    },
    "tags": []
   },
   "outputs": [],
   "source": [
    "# filling all null values\n",
    "train['Embarked'] =train['Embarked'].fillna(common_value)"
   ]
  },
  {
   "cell_type": "code",
   "execution_count": 20,
   "id": "1cf41443",
   "metadata": {
    "execution": {
     "iopub.execute_input": "2023-01-04T17:01:06.497083Z",
     "iopub.status.busy": "2023-01-04T17:01:06.496678Z",
     "iopub.status.idle": "2023-01-04T17:01:06.504080Z",
     "shell.execute_reply": "2023-01-04T17:01:06.502978Z"
    },
    "papermill": {
     "duration": 0.033101,
     "end_time": "2023-01-04T17:01:06.506244",
     "exception": false,
     "start_time": "2023-01-04T17:01:06.473143",
     "status": "completed"
    },
    "tags": []
   },
   "outputs": [
    {
     "data": {
      "text/plain": [
       "0"
      ]
     },
     "execution_count": 20,
     "metadata": {},
     "output_type": "execute_result"
    }
   ],
   "source": [
    "# check\n",
    "train['Embarked'].isnull().sum()"
   ]
  },
  {
   "cell_type": "markdown",
   "id": "defcc1e1",
   "metadata": {
    "papermill": {
     "duration": 0.026221,
     "end_time": "2023-01-04T17:01:06.558474",
     "exception": false,
     "start_time": "2023-01-04T17:01:06.532253",
     "status": "completed"
    },
    "tags": []
   },
   "source": [
    "## 2.4 Cabin (Train & Test)\n",
    "\n",
    "Turns out, the first letter of the Cabin signifies the decks on which the cabins are located. Let's first explore this furthur"
   ]
  },
  {
   "cell_type": "code",
   "execution_count": 21,
   "id": "d2493dad",
   "metadata": {
    "execution": {
     "iopub.execute_input": "2023-01-04T17:01:06.618347Z",
     "iopub.status.busy": "2023-01-04T17:01:06.617037Z",
     "iopub.status.idle": "2023-01-04T17:01:06.627776Z",
     "shell.execute_reply": "2023-01-04T17:01:06.626894Z"
    },
    "papermill": {
     "duration": 0.04238,
     "end_time": "2023-01-04T17:01:06.630120",
     "exception": false,
     "start_time": "2023-01-04T17:01:06.587740",
     "status": "completed"
    },
    "tags": []
   },
   "outputs": [],
   "source": [
    "train['Deck'] = train['Cabin'].apply(lambda x: x[0] if pd.notnull(x) else 'M')\n",
    "test['Deck'] = test['Cabin'].apply(lambda x: x[0] if pd.notnull(x) else 'M')"
   ]
  },
  {
   "cell_type": "code",
   "execution_count": 22,
   "id": "37b10ef2",
   "metadata": {
    "_kg_hide-input": true,
    "execution": {
     "iopub.execute_input": "2023-01-04T17:01:06.676683Z",
     "iopub.status.busy": "2023-01-04T17:01:06.676152Z",
     "iopub.status.idle": "2023-01-04T17:01:06.692300Z",
     "shell.execute_reply": "2023-01-04T17:01:06.690563Z"
    },
    "papermill": {
     "duration": 0.041937,
     "end_time": "2023-01-04T17:01:06.694682",
     "exception": false,
     "start_time": "2023-01-04T17:01:06.652745",
     "status": "completed"
    },
    "tags": []
   },
   "outputs": [
    {
     "name": "stdout",
     "output_type": "stream",
     "text": [
      "Train data grouped by Deck and Pclass:\n"
     ]
    },
    {
     "data": {
      "text/html": [
       "<div>\n",
       "<style scoped>\n",
       "    .dataframe tbody tr th:only-of-type {\n",
       "        vertical-align: middle;\n",
       "    }\n",
       "\n",
       "    .dataframe tbody tr th {\n",
       "        vertical-align: top;\n",
       "    }\n",
       "\n",
       "    .dataframe thead th {\n",
       "        text-align: right;\n",
       "    }\n",
       "</style>\n",
       "<table border=\"1\" class=\"dataframe\">\n",
       "  <thead>\n",
       "    <tr style=\"text-align: right;\">\n",
       "      <th></th>\n",
       "      <th>Deck</th>\n",
       "      <th>Pclass</th>\n",
       "      <th>Counts</th>\n",
       "    </tr>\n",
       "  </thead>\n",
       "  <tbody>\n",
       "    <tr>\n",
       "      <th>0</th>\n",
       "      <td>A</td>\n",
       "      <td>1</td>\n",
       "      <td>15</td>\n",
       "    </tr>\n",
       "    <tr>\n",
       "      <th>1</th>\n",
       "      <td>B</td>\n",
       "      <td>1</td>\n",
       "      <td>47</td>\n",
       "    </tr>\n",
       "    <tr>\n",
       "      <th>2</th>\n",
       "      <td>C</td>\n",
       "      <td>1</td>\n",
       "      <td>59</td>\n",
       "    </tr>\n",
       "    <tr>\n",
       "      <th>3</th>\n",
       "      <td>D</td>\n",
       "      <td>1</td>\n",
       "      <td>29</td>\n",
       "    </tr>\n",
       "    <tr>\n",
       "      <th>4</th>\n",
       "      <td>D</td>\n",
       "      <td>2</td>\n",
       "      <td>4</td>\n",
       "    </tr>\n",
       "    <tr>\n",
       "      <th>5</th>\n",
       "      <td>E</td>\n",
       "      <td>1</td>\n",
       "      <td>25</td>\n",
       "    </tr>\n",
       "    <tr>\n",
       "      <th>6</th>\n",
       "      <td>E</td>\n",
       "      <td>2</td>\n",
       "      <td>4</td>\n",
       "    </tr>\n",
       "    <tr>\n",
       "      <th>7</th>\n",
       "      <td>E</td>\n",
       "      <td>3</td>\n",
       "      <td>3</td>\n",
       "    </tr>\n",
       "    <tr>\n",
       "      <th>8</th>\n",
       "      <td>F</td>\n",
       "      <td>2</td>\n",
       "      <td>8</td>\n",
       "    </tr>\n",
       "    <tr>\n",
       "      <th>9</th>\n",
       "      <td>F</td>\n",
       "      <td>3</td>\n",
       "      <td>5</td>\n",
       "    </tr>\n",
       "    <tr>\n",
       "      <th>10</th>\n",
       "      <td>G</td>\n",
       "      <td>3</td>\n",
       "      <td>4</td>\n",
       "    </tr>\n",
       "    <tr>\n",
       "      <th>11</th>\n",
       "      <td>M</td>\n",
       "      <td>1</td>\n",
       "      <td>40</td>\n",
       "    </tr>\n",
       "    <tr>\n",
       "      <th>12</th>\n",
       "      <td>M</td>\n",
       "      <td>2</td>\n",
       "      <td>168</td>\n",
       "    </tr>\n",
       "    <tr>\n",
       "      <th>13</th>\n",
       "      <td>M</td>\n",
       "      <td>3</td>\n",
       "      <td>479</td>\n",
       "    </tr>\n",
       "    <tr>\n",
       "      <th>14</th>\n",
       "      <td>T</td>\n",
       "      <td>1</td>\n",
       "      <td>1</td>\n",
       "    </tr>\n",
       "  </tbody>\n",
       "</table>\n",
       "</div>"
      ],
      "text/plain": [
       "   Deck  Pclass  Counts\n",
       "0     A       1      15\n",
       "1     B       1      47\n",
       "2     C       1      59\n",
       "3     D       1      29\n",
       "4     D       2       4\n",
       "5     E       1      25\n",
       "6     E       2       4\n",
       "7     E       3       3\n",
       "8     F       2       8\n",
       "9     F       3       5\n",
       "10    G       3       4\n",
       "11    M       1      40\n",
       "12    M       2     168\n",
       "13    M       3     479\n",
       "14    T       1       1"
      ]
     },
     "execution_count": 22,
     "metadata": {},
     "output_type": "execute_result"
    }
   ],
   "source": [
    "print('Train data grouped by Deck and Pclass:')\n",
    "train.groupby(['Deck', 'Pclass']).size().reset_index(name = 'Counts')\n"
   ]
  },
  {
   "cell_type": "code",
   "execution_count": 23,
   "id": "a23370ac",
   "metadata": {
    "_kg_hide-input": true,
    "execution": {
     "iopub.execute_input": "2023-01-04T17:01:06.740608Z",
     "iopub.status.busy": "2023-01-04T17:01:06.740164Z",
     "iopub.status.idle": "2023-01-04T17:01:06.756218Z",
     "shell.execute_reply": "2023-01-04T17:01:06.754795Z"
    },
    "papermill": {
     "duration": 0.041826,
     "end_time": "2023-01-04T17:01:06.758689",
     "exception": false,
     "start_time": "2023-01-04T17:01:06.716863",
     "status": "completed"
    },
    "tags": []
   },
   "outputs": [
    {
     "name": "stdout",
     "output_type": "stream",
     "text": [
      "Test data grouped by Deck and Pclass:\n"
     ]
    },
    {
     "data": {
      "text/html": [
       "<div>\n",
       "<style scoped>\n",
       "    .dataframe tbody tr th:only-of-type {\n",
       "        vertical-align: middle;\n",
       "    }\n",
       "\n",
       "    .dataframe tbody tr th {\n",
       "        vertical-align: top;\n",
       "    }\n",
       "\n",
       "    .dataframe thead th {\n",
       "        text-align: right;\n",
       "    }\n",
       "</style>\n",
       "<table border=\"1\" class=\"dataframe\">\n",
       "  <thead>\n",
       "    <tr style=\"text-align: right;\">\n",
       "      <th></th>\n",
       "      <th>Deck</th>\n",
       "      <th>Pclass</th>\n",
       "      <th>Counts</th>\n",
       "    </tr>\n",
       "  </thead>\n",
       "  <tbody>\n",
       "    <tr>\n",
       "      <th>0</th>\n",
       "      <td>A</td>\n",
       "      <td>1</td>\n",
       "      <td>7</td>\n",
       "    </tr>\n",
       "    <tr>\n",
       "      <th>1</th>\n",
       "      <td>B</td>\n",
       "      <td>1</td>\n",
       "      <td>18</td>\n",
       "    </tr>\n",
       "    <tr>\n",
       "      <th>2</th>\n",
       "      <td>C</td>\n",
       "      <td>1</td>\n",
       "      <td>35</td>\n",
       "    </tr>\n",
       "    <tr>\n",
       "      <th>3</th>\n",
       "      <td>D</td>\n",
       "      <td>1</td>\n",
       "      <td>11</td>\n",
       "    </tr>\n",
       "    <tr>\n",
       "      <th>4</th>\n",
       "      <td>D</td>\n",
       "      <td>2</td>\n",
       "      <td>2</td>\n",
       "    </tr>\n",
       "    <tr>\n",
       "      <th>5</th>\n",
       "      <td>E</td>\n",
       "      <td>1</td>\n",
       "      <td>9</td>\n",
       "    </tr>\n",
       "    <tr>\n",
       "      <th>6</th>\n",
       "      <td>F</td>\n",
       "      <td>2</td>\n",
       "      <td>5</td>\n",
       "    </tr>\n",
       "    <tr>\n",
       "      <th>7</th>\n",
       "      <td>F</td>\n",
       "      <td>3</td>\n",
       "      <td>3</td>\n",
       "    </tr>\n",
       "    <tr>\n",
       "      <th>8</th>\n",
       "      <td>G</td>\n",
       "      <td>3</td>\n",
       "      <td>1</td>\n",
       "    </tr>\n",
       "    <tr>\n",
       "      <th>9</th>\n",
       "      <td>M</td>\n",
       "      <td>1</td>\n",
       "      <td>27</td>\n",
       "    </tr>\n",
       "    <tr>\n",
       "      <th>10</th>\n",
       "      <td>M</td>\n",
       "      <td>2</td>\n",
       "      <td>86</td>\n",
       "    </tr>\n",
       "    <tr>\n",
       "      <th>11</th>\n",
       "      <td>M</td>\n",
       "      <td>3</td>\n",
       "      <td>214</td>\n",
       "    </tr>\n",
       "  </tbody>\n",
       "</table>\n",
       "</div>"
      ],
      "text/plain": [
       "   Deck  Pclass  Counts\n",
       "0     A       1       7\n",
       "1     B       1      18\n",
       "2     C       1      35\n",
       "3     D       1      11\n",
       "4     D       2       2\n",
       "5     E       1       9\n",
       "6     F       2       5\n",
       "7     F       3       3\n",
       "8     G       3       1\n",
       "9     M       1      27\n",
       "10    M       2      86\n",
       "11    M       3     214"
      ]
     },
     "execution_count": 23,
     "metadata": {},
     "output_type": "execute_result"
    }
   ],
   "source": [
    "print('Test data grouped by Deck and Pclass:')\n",
    "test.groupby(['Deck', 'Pclass']).size().reset_index(name = 'Counts')"
   ]
  },
  {
   "cell_type": "code",
   "execution_count": 24,
   "id": "576bb34e",
   "metadata": {
    "execution": {
     "iopub.execute_input": "2023-01-04T17:01:06.805021Z",
     "iopub.status.busy": "2023-01-04T17:01:06.804611Z",
     "iopub.status.idle": "2023-01-04T17:01:06.818073Z",
     "shell.execute_reply": "2023-01-04T17:01:06.817151Z"
    },
    "papermill": {
     "duration": 0.039438,
     "end_time": "2023-01-04T17:01:06.820345",
     "exception": false,
     "start_time": "2023-01-04T17:01:06.780907",
     "status": "completed"
    },
    "tags": []
   },
   "outputs": [],
   "source": [
    "train['Deck'] = train['Deck'].replace(['A', 'B', 'C', 'T'], 'ABC')\n",
    "train['Deck'] = train['Deck'].replace(['D', 'E'], 'DE')\n",
    "train['Deck'] = train['Deck'].replace(['F', 'G'], 'FG')\n",
    "\n",
    "test['Deck'] = test['Deck'].replace(['A', 'B', 'C'], 'ABC')\n",
    "test['Deck'] = test['Deck'].replace(['D', 'E'], 'DE')\n",
    "test['Deck'] = test['Deck'].replace(['F', 'G'], 'FG')"
   ]
  },
  {
   "cell_type": "markdown",
   "id": "9a7a7213",
   "metadata": {
    "papermill": {
     "duration": 0.022187,
     "end_time": "2023-01-04T17:01:06.865176",
     "exception": false,
     "start_time": "2023-01-04T17:01:06.842989",
     "status": "completed"
    },
    "tags": []
   },
   "source": [
    "## 3  - Feature Engineering"
   ]
  },
  {
   "cell_type": "markdown",
   "id": "d8253ff9",
   "metadata": {
    "papermill": {
     "duration": 0.021996,
     "end_time": "2023-01-04T17:01:06.909837",
     "exception": false,
     "start_time": "2023-01-04T17:01:06.887841",
     "status": "completed"
    },
    "tags": []
   },
   "source": [
    "## 3.1 Extracting titles from 'Name' \n",
    "We cannot use the whole name as there are a lot of unique names. But all the names have a title that is associated with the person. We can extract the titles and convert them into dummies.\n"
   ]
  },
  {
   "cell_type": "code",
   "execution_count": 25,
   "id": "e7022d45",
   "metadata": {
    "execution": {
     "iopub.execute_input": "2023-01-04T17:01:06.957124Z",
     "iopub.status.busy": "2023-01-04T17:01:06.956415Z",
     "iopub.status.idle": "2023-01-04T17:01:06.960918Z",
     "shell.execute_reply": "2023-01-04T17:01:06.960089Z"
    },
    "papermill": {
     "duration": 0.030951,
     "end_time": "2023-01-04T17:01:06.963108",
     "exception": false,
     "start_time": "2023-01-04T17:01:06.932157",
     "status": "completed"
    },
    "tags": []
   },
   "outputs": [],
   "source": [
    "# storing the most common titles \n",
    "titles = ['Mr', 'Miss', 'Mrs', 'Master', 'Other', 'Mlle', 'Ms', 'Mme']"
   ]
  },
  {
   "cell_type": "code",
   "execution_count": 26,
   "id": "e7b24569",
   "metadata": {
    "execution": {
     "iopub.execute_input": "2023-01-04T17:01:07.010753Z",
     "iopub.status.busy": "2023-01-04T17:01:07.010054Z",
     "iopub.status.idle": "2023-01-04T17:01:07.015367Z",
     "shell.execute_reply": "2023-01-04T17:01:07.014571Z"
    },
    "papermill": {
     "duration": 0.031674,
     "end_time": "2023-01-04T17:01:07.017704",
     "exception": false,
     "start_time": "2023-01-04T17:01:06.986030",
     "status": "completed"
    },
    "tags": []
   },
   "outputs": [],
   "source": [
    "# function to extract the tile \n",
    "def extract_title(name):\n",
    "    '''\n",
    "    takes in the name feature\n",
    "    splits the name based on space and creates a list \n",
    "    stores in the 2nd item (title) in the variable 'title'\n",
    "    \n",
    "    if the title is not among the common titles, returns 'Other'\n",
    "    else returns the title \n",
    "    '''\n",
    "\n",
    "    title = name.split('.')[0].split(' ')[-1]\n",
    "    \n",
    "    if title not in titles:\n",
    "        return titles[4]\n",
    "    else:\n",
    "        return title\n"
   ]
  },
  {
   "cell_type": "code",
   "execution_count": 27,
   "id": "bd7b286b",
   "metadata": {
    "execution": {
     "iopub.execute_input": "2023-01-04T17:01:07.065034Z",
     "iopub.status.busy": "2023-01-04T17:01:07.064593Z",
     "iopub.status.idle": "2023-01-04T17:01:07.090697Z",
     "shell.execute_reply": "2023-01-04T17:01:07.089459Z"
    },
    "papermill": {
     "duration": 0.05318,
     "end_time": "2023-01-04T17:01:07.093502",
     "exception": false,
     "start_time": "2023-01-04T17:01:07.040322",
     "status": "completed"
    },
    "tags": []
   },
   "outputs": [],
   "source": [
    "# extracting the title in a different coulmn\n",
    "train['Title'] = train.apply(lambda x: extract_title(x['Name']), axis=1)\n",
    "test['Title'] = test.apply(lambda x: extract_title(x['Name']), axis=1)  "
   ]
  },
  {
   "cell_type": "code",
   "execution_count": 28,
   "id": "ebc02f87",
   "metadata": {
    "execution": {
     "iopub.execute_input": "2023-01-04T17:01:07.141387Z",
     "iopub.status.busy": "2023-01-04T17:01:07.140993Z",
     "iopub.status.idle": "2023-01-04T17:01:07.150886Z",
     "shell.execute_reply": "2023-01-04T17:01:07.149680Z"
    },
    "papermill": {
     "duration": 0.036494,
     "end_time": "2023-01-04T17:01:07.153083",
     "exception": false,
     "start_time": "2023-01-04T17:01:07.116589",
     "status": "completed"
    },
    "tags": []
   },
   "outputs": [],
   "source": [
    "# replacing \n",
    "train['Title'] = train['Title'].replace('Mlle', 'Miss')\n",
    "train['Title'] = train['Title'].replace('Ms', 'Miss')\n",
    "train['Title'] = train['Title'].replace('Mme', 'Mrs')\n",
    "\n",
    "# replacing \n",
    "test['Title'] = test['Title'].replace('Ms', 'Miss')"
   ]
  },
  {
   "cell_type": "markdown",
   "id": "710d3609",
   "metadata": {
    "papermill": {
     "duration": 0.022251,
     "end_time": "2023-01-04T17:01:07.197722",
     "exception": false,
     "start_time": "2023-01-04T17:01:07.175471",
     "status": "completed"
    },
    "tags": []
   },
   "source": [
    "## 3.2 Fam size"
   ]
  },
  {
   "cell_type": "code",
   "execution_count": 29,
   "id": "f155ce30",
   "metadata": {
    "_kg_hide-input": true,
    "execution": {
     "iopub.execute_input": "2023-01-04T17:01:07.247477Z",
     "iopub.status.busy": "2023-01-04T17:01:07.246683Z",
     "iopub.status.idle": "2023-01-04T17:01:07.748990Z",
     "shell.execute_reply": "2023-01-04T17:01:07.747847Z"
    },
    "papermill": {
     "duration": 0.53149,
     "end_time": "2023-01-04T17:01:07.751523",
     "exception": false,
     "start_time": "2023-01-04T17:01:07.220033",
     "status": "completed"
    },
    "tags": []
   },
   "outputs": [
    {
     "data": {
      "text/plain": [
       "<Figure size 900x500 with 0 Axes>"
      ]
     },
     "metadata": {},
     "output_type": "display_data"
    },
    {
     "data": {
      "image/png": "[encoded data removed]",
      "text/plain": [
       "<Figure size 2000x700 with 2 Axes>"
      ]
     },
     "metadata": {},
     "output_type": "display_data"
    }
   ],
   "source": [
    "train['Fam Size'] = train['SibSp'] + train['Parch'] + 1\n",
    "test['Fam Size'] = test['SibSp'] + test['Parch'] + 1\n",
    "\n",
    "plt.figure(figsize = (9, 5))\n",
    "fig, axs = plt.subplots(ncols = 2, figsize =(20, 7))\n",
    "\n",
    "sns.histplot(x = 'Fam Size', data = train, ax = axs[0], binwidth= 0.5)\n",
    "_ = axs[0].set_title(\"Fam Size Distribution in Train\")\n",
    "\n",
    "sns.histplot(x = 'Fam Size', data = test, ax = axs[1], binwidth= 0.5)\n",
    "_ = axs[1].set_title(\"Fam Size Distribution in Test\")"
   ]
  },
  {
   "cell_type": "code",
   "execution_count": 30,
   "id": "b63f4c48",
   "metadata": {
    "execution": {
     "iopub.execute_input": "2023-01-04T17:01:07.799236Z",
     "iopub.status.busy": "2023-01-04T17:01:07.798852Z",
     "iopub.status.idle": "2023-01-04T17:01:07.807333Z",
     "shell.execute_reply": "2023-01-04T17:01:07.806221Z"
    },
    "papermill": {
     "duration": 0.034721,
     "end_time": "2023-01-04T17:01:07.809355",
     "exception": false,
     "start_time": "2023-01-04T17:01:07.774634",
     "status": "completed"
    },
    "tags": []
   },
   "outputs": [],
   "source": [
    "family_map = {1: 'Alone', 2: 'Small', 3: 'Small', 4: 'Small', 5: 'Medium', 6: 'Medium', 7: 'Large', 8: 'Large', 11: 'Large'}\n",
    "\n",
    "train['Fam Size grouped'] = train['Fam Size'].map(family_map)\n",
    "test['Fam Size grouped'] = test['Fam Size'].map(family_map)"
   ]
  },
  {
   "cell_type": "code",
   "execution_count": 31,
   "id": "df841b8b",
   "metadata": {
    "_kg_hide-input": true,
    "execution": {
     "iopub.execute_input": "2023-01-04T17:01:07.857654Z",
     "iopub.status.busy": "2023-01-04T17:01:07.856590Z",
     "iopub.status.idle": "2023-01-04T17:01:08.226215Z",
     "shell.execute_reply": "2023-01-04T17:01:08.224995Z"
    },
    "papermill": {
     "duration": 0.396642,
     "end_time": "2023-01-04T17:01:08.228918",
     "exception": false,
     "start_time": "2023-01-04T17:01:07.832276",
     "status": "completed"
    },
    "tags": []
   },
   "outputs": [
    {
     "data": {
      "text/plain": [
       "<Figure size 900x500 with 0 Axes>"
      ]
     },
     "metadata": {},
     "output_type": "display_data"
    },
    {
     "data": {
      "image/png": "[encoded data removed]",
      "text/plain": [
       "<Figure size 2000x700 with 2 Axes>"
      ]
     },
     "metadata": {},
     "output_type": "display_data"
    }
   ],
   "source": [
    "plt.figure(figsize = (9, 5))\n",
    "fig, axs = plt.subplots(ncols = 2, figsize =(20, 7))\n",
    "\n",
    "sns.histplot(x = 'Fam Size grouped', data = train, ax = axs[0], binwidth= 0.5)\n",
    "_ = axs[0].set_title(\"Fam Size grouped Distribution in Train\")\n",
    "\n",
    "sns.histplot(x = 'Fam Size grouped', data = test, ax = axs[1], binwidth= 0.5)\n",
    "_ = axs[1].set_title(\"Fam Size grouped Distribution in Test\")"
   ]
  },
  {
   "cell_type": "markdown",
   "id": "7dc72891",
   "metadata": {
    "papermill": {
     "duration": 0.023008,
     "end_time": "2023-01-04T17:01:08.275985",
     "exception": false,
     "start_time": "2023-01-04T17:01:08.252977",
     "status": "completed"
    },
    "tags": []
   },
   "source": [
    "## 3.3 Age "
   ]
  },
  {
   "cell_type": "code",
   "execution_count": 32,
   "id": "fbc26c6b",
   "metadata": {
    "execution": {
     "iopub.execute_input": "2023-01-04T17:01:08.325282Z",
     "iopub.status.busy": "2023-01-04T17:01:08.324446Z",
     "iopub.status.idle": "2023-01-04T17:01:08.339803Z",
     "shell.execute_reply": "2023-01-04T17:01:08.338574Z"
    },
    "papermill": {
     "duration": 0.043114,
     "end_time": "2023-01-04T17:01:08.342306",
     "exception": false,
     "start_time": "2023-01-04T17:01:08.299192",
     "status": "completed"
    },
    "tags": []
   },
   "outputs": [],
   "source": [
    "bins = [0,10, 20, 30, 40, 50, 60, 80]\n",
    "labels=['babies','teens','20s', '30s','40s','50s','oldge']\n",
    "\n",
    "train['Age group'] = pd.cut(train['Age'], bins, labels=labels)\n",
    "test['Age group'] = pd.cut(test['Age'], bins, labels=labels)\n",
    "\n",
    "age_map = {'babies': 1, 'teens': 2, '20s': 3, '30s': 4, '40s': 5, '50s': 6, 'oldge': 7}\n",
    "train['Age group'] = pd.to_numeric(train['Age group'].map(age_map))\n",
    "test['Age group'] = pd.to_numeric(test['Age group'].map(age_map))"
   ]
  },
  {
   "cell_type": "markdown",
   "id": "17d06878",
   "metadata": {
    "papermill": {
     "duration": 0.022926,
     "end_time": "2023-01-04T17:01:08.388439",
     "exception": false,
     "start_time": "2023-01-04T17:01:08.365513",
     "status": "completed"
    },
    "tags": []
   },
   "source": [
    "## 3.4 Fare"
   ]
  },
  {
   "cell_type": "code",
   "execution_count": 33,
   "id": "2ab367d3",
   "metadata": {
    "execution": {
     "iopub.execute_input": "2023-01-04T17:01:08.437029Z",
     "iopub.status.busy": "2023-01-04T17:01:08.436626Z",
     "iopub.status.idle": "2023-01-04T17:01:08.454100Z",
     "shell.execute_reply": "2023-01-04T17:01:08.452955Z"
    },
    "papermill": {
     "duration": 0.044634,
     "end_time": "2023-01-04T17:01:08.456543",
     "exception": false,
     "start_time": "2023-01-04T17:01:08.411909",
     "status": "completed"
    },
    "tags": []
   },
   "outputs": [],
   "source": [
    "train['Fare'] = pd.qcut(train['Fare'], 13)\n",
    "test['Fare'] = pd.qcut(test['Fare'], 13)"
   ]
  },
  {
   "cell_type": "code",
   "execution_count": 34,
   "id": "b8b94f0b",
   "metadata": {
    "_kg_hide-input": true,
    "execution": {
     "iopub.execute_input": "2023-01-04T17:01:08.505801Z",
     "iopub.status.busy": "2023-01-04T17:01:08.505136Z",
     "iopub.status.idle": "2023-01-04T17:01:09.317698Z",
     "shell.execute_reply": "2023-01-04T17:01:09.316583Z"
    },
    "papermill": {
     "duration": 0.840062,
     "end_time": "2023-01-04T17:01:09.320477",
     "exception": false,
     "start_time": "2023-01-04T17:01:08.480415",
     "status": "completed"
    },
    "tags": []
   },
   "outputs": [
    {
     "data": {
      "text/plain": [
       "<Figure size 900x2000 with 0 Axes>"
      ]
     },
     "metadata": {},
     "output_type": "display_data"
    },
    {
     "data": {
      "image/png": "[encoded data removed]",
      "text/plain": [
       "<Figure size 2000x2000 with 2 Axes>"
      ]
     },
     "metadata": {},
     "output_type": "display_data"
    }
   ],
   "source": [
    "plt.figure(figsize = (9, 20))\n",
    "fig, axs = plt.subplots(nrows = 2, figsize = (20,20))\n",
    "\n",
    "sns.countplot(x = 'Fare', data = train, hue = 'Survived', ax = axs[0])\n",
    "_ = axs[0].set_title(\"Fare Distribution in Train\")\n",
    "\n",
    "sns.countplot(x = 'Fare', data = test, hue = 'Survived', ax = axs[1])\n",
    "_ = axs[1].set_title(\"Fare Distribution in Test\")"
   ]
  },
  {
   "cell_type": "code",
   "execution_count": 35,
   "id": "7e2aacd8",
   "metadata": {
    "execution": {
     "iopub.execute_input": "2023-01-04T17:01:09.379431Z",
     "iopub.status.busy": "2023-01-04T17:01:09.378799Z",
     "iopub.status.idle": "2023-01-04T17:01:09.389733Z",
     "shell.execute_reply": "2023-01-04T17:01:09.388785Z"
    },
    "papermill": {
     "duration": 0.046256,
     "end_time": "2023-01-04T17:01:09.392515",
     "exception": false,
     "start_time": "2023-01-04T17:01:09.346259",
     "status": "completed"
    },
    "tags": []
   },
   "outputs": [],
   "source": [
    "train['Ticket_Frequency'] = train.groupby('Ticket')['Ticket'].transform('count')\n",
    "test['Ticket_Frequency'] = test.groupby('Ticket')['Ticket'].transform('count')"
   ]
  },
  {
   "cell_type": "markdown",
   "id": "c4d2031f",
   "metadata": {
    "papermill": {
     "duration": 0.024794,
     "end_time": "2023-01-04T17:01:09.452928",
     "exception": false,
     "start_time": "2023-01-04T17:01:09.428134",
     "status": "completed"
    },
    "tags": []
   },
   "source": [
    "## 4 - Data Processing\n",
    "\n",
    "* Dropping columns that are not useful\n",
    "* Label encoding\n",
    "* One hot encoding\n",
    "* Scaling \n",
    "* Data Split"
   ]
  },
  {
   "cell_type": "markdown",
   "id": "feb64530",
   "metadata": {
    "papermill": {
     "duration": 0.027923,
     "end_time": "2023-01-04T17:01:09.506023",
     "exception": false,
     "start_time": "2023-01-04T17:01:09.478100",
     "status": "completed"
    },
    "tags": []
   },
   "source": [
    "## 4.1 Dropping Unhelpful Data"
   ]
  },
  {
   "cell_type": "code",
   "execution_count": 36,
   "id": "f7d49910",
   "metadata": {
    "execution": {
     "iopub.execute_input": "2023-01-04T17:01:09.570894Z",
     "iopub.status.busy": "2023-01-04T17:01:09.570066Z",
     "iopub.status.idle": "2023-01-04T17:01:09.580108Z",
     "shell.execute_reply": "2023-01-04T17:01:09.579113Z"
    },
    "papermill": {
     "duration": 0.040419,
     "end_time": "2023-01-04T17:01:09.583070",
     "exception": false,
     "start_time": "2023-01-04T17:01:09.542651",
     "status": "completed"
    },
    "tags": []
   },
   "outputs": [],
   "source": [
    "# dropping columns that are not helpful\n",
    "train_df = train.drop(['Name', 'PassengerId','Age', 'SibSp', 'Parch', 'Cabin', 'Fam Size', 'Ticket'], axis = 1)\n",
    "test_df = test.drop(['Name', 'Age', 'SibSp', 'Parch', 'Cabin', 'Fam Size', 'Ticket'], axis = 1)"
   ]
  },
  {
   "cell_type": "code",
   "execution_count": 37,
   "id": "51854db9",
   "metadata": {
    "execution": {
     "iopub.execute_input": "2023-01-04T17:01:09.657587Z",
     "iopub.status.busy": "2023-01-04T17:01:09.656168Z",
     "iopub.status.idle": "2023-01-04T17:01:09.669736Z",
     "shell.execute_reply": "2023-01-04T17:01:09.668452Z"
    },
    "papermill": {
     "duration": 0.054952,
     "end_time": "2023-01-04T17:01:09.672261",
     "exception": false,
     "start_time": "2023-01-04T17:01:09.617309",
     "status": "completed"
    },
    "tags": []
   },
   "outputs": [
    {
     "data": {
      "text/html": [
       "<div>\n",
       "<style scoped>\n",
       "    .dataframe tbody tr th:only-of-type {\n",
       "        vertical-align: middle;\n",
       "    }\n",
       "\n",
       "    .dataframe tbody tr th {\n",
       "        vertical-align: top;\n",
       "    }\n",
       "\n",
       "    .dataframe thead th {\n",
       "        text-align: right;\n",
       "    }\n",
       "</style>\n",
       "<table border=\"1\" class=\"dataframe\">\n",
       "  <thead>\n",
       "    <tr style=\"text-align: right;\">\n",
       "      <th></th>\n",
       "      <th>Survived</th>\n",
       "      <th>Pclass</th>\n",
       "      <th>Sex</th>\n",
       "      <th>Fare</th>\n",
       "      <th>Embarked</th>\n",
       "      <th>Deck</th>\n",
       "      <th>Title</th>\n",
       "      <th>Fam Size grouped</th>\n",
       "      <th>Age group</th>\n",
       "      <th>Ticket_Frequency</th>\n",
       "    </tr>\n",
       "  </thead>\n",
       "  <tbody>\n",
       "  </tbody>\n",
       "</table>\n",
       "</div>"
      ],
      "text/plain": [
       "Empty DataFrame\n",
       "Columns: [Survived, Pclass, Sex, Fare, Embarked, Deck, Title, Fam Size grouped, Age group, Ticket_Frequency]\n",
       "Index: []"
      ]
     },
     "execution_count": 37,
     "metadata": {},
     "output_type": "execute_result"
    }
   ],
   "source": [
    "train_df.head(0)"
   ]
  },
  {
   "cell_type": "code",
   "execution_count": 38,
   "id": "11334a01",
   "metadata": {
    "execution": {
     "iopub.execute_input": "2023-01-04T17:01:09.724346Z",
     "iopub.status.busy": "2023-01-04T17:01:09.723526Z",
     "iopub.status.idle": "2023-01-04T17:01:09.735456Z",
     "shell.execute_reply": "2023-01-04T17:01:09.734240Z"
    },
    "papermill": {
     "duration": 0.04071,
     "end_time": "2023-01-04T17:01:09.737920",
     "exception": false,
     "start_time": "2023-01-04T17:01:09.697210",
     "status": "completed"
    },
    "tags": []
   },
   "outputs": [
    {
     "data": {
      "text/html": [
       "<div>\n",
       "<style scoped>\n",
       "    .dataframe tbody tr th:only-of-type {\n",
       "        vertical-align: middle;\n",
       "    }\n",
       "\n",
       "    .dataframe tbody tr th {\n",
       "        vertical-align: top;\n",
       "    }\n",
       "\n",
       "    .dataframe thead th {\n",
       "        text-align: right;\n",
       "    }\n",
       "</style>\n",
       "<table border=\"1\" class=\"dataframe\">\n",
       "  <thead>\n",
       "    <tr style=\"text-align: right;\">\n",
       "      <th></th>\n",
       "      <th>PassengerId</th>\n",
       "      <th>Pclass</th>\n",
       "      <th>Sex</th>\n",
       "      <th>Fare</th>\n",
       "      <th>Embarked</th>\n",
       "      <th>Survived</th>\n",
       "      <th>Deck</th>\n",
       "      <th>Title</th>\n",
       "      <th>Fam Size grouped</th>\n",
       "      <th>Age group</th>\n",
       "      <th>Ticket_Frequency</th>\n",
       "    </tr>\n",
       "  </thead>\n",
       "  <tbody>\n",
       "  </tbody>\n",
       "</table>\n",
       "</div>"
      ],
      "text/plain": [
       "Empty DataFrame\n",
       "Columns: [PassengerId, Pclass, Sex, Fare, Embarked, Survived, Deck, Title, Fam Size grouped, Age group, Ticket_Frequency]\n",
       "Index: []"
      ]
     },
     "execution_count": 38,
     "metadata": {},
     "output_type": "execute_result"
    }
   ],
   "source": [
    "test_df.head(0)"
   ]
  },
  {
   "cell_type": "markdown",
   "id": "f8399d8f",
   "metadata": {
    "papermill": {
     "duration": 0.024596,
     "end_time": "2023-01-04T17:01:09.788065",
     "exception": false,
     "start_time": "2023-01-04T17:01:09.763469",
     "status": "completed"
    },
    "tags": []
   },
   "source": [
    "## 4.2 Label encoding"
   ]
  },
  {
   "cell_type": "code",
   "execution_count": 39,
   "id": "04d0af63",
   "metadata": {
    "_kg_hide-input": true,
    "execution": {
     "iopub.execute_input": "2023-01-04T17:01:09.840599Z",
     "iopub.status.busy": "2023-01-04T17:01:09.839770Z",
     "iopub.status.idle": "2023-01-04T17:01:09.860466Z",
     "shell.execute_reply": "2023-01-04T17:01:09.859086Z"
    },
    "papermill": {
     "duration": 0.051308,
     "end_time": "2023-01-04T17:01:09.864259",
     "exception": false,
     "start_time": "2023-01-04T17:01:09.812951",
     "status": "completed"
    },
    "tags": []
   },
   "outputs": [
    {
     "name": "stdout",
     "output_type": "stream",
     "text": [
      "Encoding for train finished!\n",
      "Encoding for test finished!\n"
     ]
    }
   ],
   "source": [
    "from sklearn.preprocessing import OneHotEncoder, LabelEncoder, StandardScaler\n",
    "non_numeric_features = ['Embarked', 'Fare', 'Sex', 'Deck', 'Title', 'Fam Size grouped', 'Age group']\n",
    "\n",
    "for feature in non_numeric_features:        \n",
    "    train[feature] = LabelEncoder().fit_transform(train[feature])\n",
    "print('Encoding for train finished!')\n",
    "        \n",
    "for feature in non_numeric_features:        \n",
    "    test[feature] = LabelEncoder().fit_transform(test[feature])\n",
    "print('Encoding for test finished!')"
   ]
  },
  {
   "cell_type": "markdown",
   "id": "9d57ce57",
   "metadata": {
    "papermill": {
     "duration": 0.024245,
     "end_time": "2023-01-04T17:01:09.914018",
     "exception": false,
     "start_time": "2023-01-04T17:01:09.889773",
     "status": "completed"
    },
    "tags": []
   },
   "source": [
    "## 4.3 One Hot Encoding"
   ]
  },
  {
   "cell_type": "code",
   "execution_count": 40,
   "id": "35703b3a",
   "metadata": {
    "execution": {
     "iopub.execute_input": "2023-01-04T17:01:09.965735Z",
     "iopub.status.busy": "2023-01-04T17:01:09.964466Z",
     "iopub.status.idle": "2023-01-04T17:01:09.985927Z",
     "shell.execute_reply": "2023-01-04T17:01:09.984698Z"
    },
    "papermill": {
     "duration": 0.052321,
     "end_time": "2023-01-04T17:01:09.990737",
     "exception": false,
     "start_time": "2023-01-04T17:01:09.938416",
     "status": "completed"
    },
    "tags": []
   },
   "outputs": [],
   "source": [
    "cat_features = ['Pclass', 'Sex', 'Deck', 'Embarked', 'Title', 'Fam Size grouped']\n",
    "encoded_features = []\n",
    "\n",
    "for feature in cat_features:\n",
    "    encoded_feat = OneHotEncoder().fit_transform(train_df[feature].values.reshape(-1, 1)).toarray()\n",
    "    n = train_df[feature].nunique()\n",
    "    cols = ['{}_{}'.format(feature, n) for n in range(1, n + 1)]\n",
    "    encoded_df = pd.DataFrame(encoded_feat, columns=cols)\n",
    "    encoded_df.index = train_df.index\n",
    "    encoded_features.append(encoded_df)\n",
    "    \n",
    "train_df = pd.concat([train_df, *encoded_features[:6]], axis=1)"
   ]
  },
  {
   "cell_type": "code",
   "execution_count": 41,
   "id": "a1cc540c",
   "metadata": {
    "execution": {
     "iopub.execute_input": "2023-01-04T17:01:10.049678Z",
     "iopub.status.busy": "2023-01-04T17:01:10.048947Z",
     "iopub.status.idle": "2023-01-04T17:01:10.067444Z",
     "shell.execute_reply": "2023-01-04T17:01:10.066551Z"
    },
    "papermill": {
     "duration": 0.048639,
     "end_time": "2023-01-04T17:01:10.070062",
     "exception": false,
     "start_time": "2023-01-04T17:01:10.021423",
     "status": "completed"
    },
    "tags": []
   },
   "outputs": [],
   "source": [
    "cat_features = ['Pclass', 'Sex', 'Deck', 'Embarked', 'Title', 'Fam Size grouped']\n",
    "encoded_features = []\n",
    "\n",
    "for feature in cat_features:\n",
    "    encoded_feat = OneHotEncoder(handle_unknown='ignore').fit_transform(test_df[feature].values.reshape(-1, 1)).toarray()\n",
    "    n = test_df[feature].nunique()\n",
    "    cols = ['{}_{}'.format(feature, n) for n in range(1, n + 1)]\n",
    "    encoded_df = pd.DataFrame(encoded_feat, columns=cols)\n",
    "    encoded_df.index = test_df.index\n",
    "    encoded_features.append(encoded_df)\n",
    "    \n",
    "test_df = pd.concat([test_df, *encoded_features[:6]], axis=1)"
   ]
  },
  {
   "cell_type": "code",
   "execution_count": 42,
   "id": "4211ee1e",
   "metadata": {
    "execution": {
     "iopub.execute_input": "2023-01-04T17:01:10.123170Z",
     "iopub.status.busy": "2023-01-04T17:01:10.122368Z",
     "iopub.status.idle": "2023-01-04T17:01:10.132939Z",
     "shell.execute_reply": "2023-01-04T17:01:10.131945Z"
    },
    "papermill": {
     "duration": 0.04041,
     "end_time": "2023-01-04T17:01:10.135601",
     "exception": false,
     "start_time": "2023-01-04T17:01:10.095191",
     "status": "completed"
    },
    "tags": []
   },
   "outputs": [],
   "source": [
    "# change dtype for Fare for scaling\n",
    "train_df['Fare'] = train_df['Fare'].apply(lambda x: x.mid).astype(float)\n",
    "test_df['Fare'] = test_df['Fare'].apply(lambda x: x.mid).astype(float)"
   ]
  },
  {
   "cell_type": "code",
   "execution_count": 43,
   "id": "4f1983ae",
   "metadata": {
    "execution": {
     "iopub.execute_input": "2023-01-04T17:01:10.189539Z",
     "iopub.status.busy": "2023-01-04T17:01:10.189145Z",
     "iopub.status.idle": "2023-01-04T17:01:10.197389Z",
     "shell.execute_reply": "2023-01-04T17:01:10.196557Z"
    },
    "papermill": {
     "duration": 0.039327,
     "end_time": "2023-01-04T17:01:10.199572",
     "exception": false,
     "start_time": "2023-01-04T17:01:10.160245",
     "status": "completed"
    },
    "tags": []
   },
   "outputs": [],
   "source": [
    "drop_cols = ['Sex', 'Embarked', 'Deck', 'Title', 'Fam Size grouped','Pclass']\n",
    "\n",
    "train_df = train_df.drop(columns = drop_cols)\n",
    "test_df = test_df.drop(columns = drop_cols)"
   ]
  },
  {
   "cell_type": "markdown",
   "id": "190e4bbc",
   "metadata": {
    "papermill": {
     "duration": 0.024279,
     "end_time": "2023-01-04T17:01:10.248268",
     "exception": false,
     "start_time": "2023-01-04T17:01:10.223989",
     "status": "completed"
    },
    "tags": []
   },
   "source": [
    "## 4.4 Labels"
   ]
  },
  {
   "cell_type": "code",
   "execution_count": 44,
   "id": "50ada6dc",
   "metadata": {
    "execution": {
     "iopub.execute_input": "2023-01-04T17:01:10.299599Z",
     "iopub.status.busy": "2023-01-04T17:01:10.298817Z",
     "iopub.status.idle": "2023-01-04T17:01:10.305926Z",
     "shell.execute_reply": "2023-01-04T17:01:10.305111Z"
    },
    "papermill": {
     "duration": 0.035699,
     "end_time": "2023-01-04T17:01:10.308181",
     "exception": false,
     "start_time": "2023-01-04T17:01:10.272482",
     "status": "completed"
    },
    "tags": []
   },
   "outputs": [],
   "source": [
    "# define the labels\n",
    "X_train = train_df.drop(['Survived'], axis = 1)\n",
    "y_train = train_df['Survived'].values\n",
    "\n",
    "X_test = test_df.drop(['PassengerId', 'Survived'], axis = 1)\n",
    "y_test = test_df['Survived']"
   ]
  },
  {
   "cell_type": "code",
   "execution_count": 45,
   "id": "db489d75",
   "metadata": {
    "_kg_hide-input": true,
    "execution": {
     "iopub.execute_input": "2023-01-04T17:01:10.358856Z",
     "iopub.status.busy": "2023-01-04T17:01:10.358138Z",
     "iopub.status.idle": "2023-01-04T17:01:10.364376Z",
     "shell.execute_reply": "2023-01-04T17:01:10.362894Z"
    },
    "papermill": {
     "duration": 0.034485,
     "end_time": "2023-01-04T17:01:10.366913",
     "exception": false,
     "start_time": "2023-01-04T17:01:10.332428",
     "status": "completed"
    },
    "tags": []
   },
   "outputs": [
    {
     "name": "stdout",
     "output_type": "stream",
     "text": [
      "X_train shape: (891, 24)\n",
      "y_train shape: (891,)\n",
      "X_test shape: (418, 24)\n"
     ]
    }
   ],
   "source": [
    "print('X_train shape: {}'.format(X_train.shape))\n",
    "print('y_train shape: {}'.format(y_train.shape))\n",
    "print('X_test shape: {}'.format(X_test.shape))"
   ]
  },
  {
   "cell_type": "code",
   "execution_count": 46,
   "id": "0feae13d",
   "metadata": {
    "_kg_hide-input": true,
    "execution": {
     "iopub.execute_input": "2023-01-04T17:01:10.418780Z",
     "iopub.status.busy": "2023-01-04T17:01:10.418357Z",
     "iopub.status.idle": "2023-01-04T17:01:10.423902Z",
     "shell.execute_reply": "2023-01-04T17:01:10.422876Z"
    },
    "papermill": {
     "duration": 0.034228,
     "end_time": "2023-01-04T17:01:10.426189",
     "exception": false,
     "start_time": "2023-01-04T17:01:10.391961",
     "status": "completed"
    },
    "tags": []
   },
   "outputs": [],
   "source": [
    "# utility\n",
    "train_columns = X_train.columns"
   ]
  },
  {
   "cell_type": "markdown",
   "id": "8a2ad5c5",
   "metadata": {
    "papermill": {
     "duration": 0.026028,
     "end_time": "2023-01-04T17:01:10.477676",
     "exception": false,
     "start_time": "2023-01-04T17:01:10.451648",
     "status": "completed"
    },
    "tags": []
   },
   "source": [
    "## 4.5 Scaling"
   ]
  },
  {
   "cell_type": "code",
   "execution_count": 47,
   "id": "194374d2",
   "metadata": {
    "execution": {
     "iopub.execute_input": "2023-01-04T17:01:10.529031Z",
     "iopub.status.busy": "2023-01-04T17:01:10.528601Z",
     "iopub.status.idle": "2023-01-04T17:01:10.541187Z",
     "shell.execute_reply": "2023-01-04T17:01:10.540171Z"
    },
    "papermill": {
     "duration": 0.040706,
     "end_time": "2023-01-04T17:01:10.543538",
     "exception": false,
     "start_time": "2023-01-04T17:01:10.502832",
     "status": "completed"
    },
    "tags": []
   },
   "outputs": [],
   "source": [
    "# import \n",
    "from sklearn.preprocessing import StandardScaler\n",
    "\n",
    "# creating an instance of the scaler\n",
    "scaler = StandardScaler()\n",
    "\n",
    "# using .fit_transform() on the train and val data\n",
    "X_train = scaler.fit_transform(X_train)\n",
    "\n",
    "# using only fit for the test data for no leaks\n",
    "X_test = scaler.transform(X_test)"
   ]
  },
  {
   "cell_type": "markdown",
   "id": "85f826c0",
   "metadata": {
    "papermill": {
     "duration": 0.025045,
     "end_time": "2023-01-04T17:01:10.594606",
     "exception": false,
     "start_time": "2023-01-04T17:01:10.569561",
     "status": "completed"
    },
    "tags": []
   },
   "source": [
    "## 4.6 Data Split"
   ]
  },
  {
   "cell_type": "code",
   "execution_count": 48,
   "id": "dfe65b28",
   "metadata": {
    "execution": {
     "iopub.execute_input": "2023-01-04T17:01:10.649003Z",
     "iopub.status.busy": "2023-01-04T17:01:10.648513Z",
     "iopub.status.idle": "2023-01-04T17:01:10.655456Z",
     "shell.execute_reply": "2023-01-04T17:01:10.654275Z"
    },
    "papermill": {
     "duration": 0.037378,
     "end_time": "2023-01-04T17:01:10.658000",
     "exception": false,
     "start_time": "2023-01-04T17:01:10.620622",
     "status": "completed"
    },
    "tags": []
   },
   "outputs": [],
   "source": [
    "from sklearn.model_selection import train_test_split\n",
    "\n",
    "X_train, X_val, y_train, y_val = train_test_split(X_train, y_train, test_size = 0.2, random_state = seed_value)"
   ]
  },
  {
   "cell_type": "markdown",
   "id": "30b12d60",
   "metadata": {
    "papermill": {
     "duration": 0.024379,
     "end_time": "2023-01-04T17:01:10.707380",
     "exception": false,
     "start_time": "2023-01-04T17:01:10.683001",
     "status": "completed"
    },
    "tags": []
   },
   "source": [
    "## 5 - Model\n",
    "\n",
    "* Creating a Random Forest Classifier\n",
    "* Get the best estimator via GridSearch\n",
    "* Re-train with the best estimator\n",
    "* Cross Validation\n",
    "* Feature Importance\n",
    "* Submission"
   ]
  },
  {
   "cell_type": "markdown",
   "id": "8776fc6a",
   "metadata": {
    "papermill": {
     "duration": 0.024589,
     "end_time": "2023-01-04T17:01:10.756698",
     "exception": false,
     "start_time": "2023-01-04T17:01:10.732109",
     "status": "completed"
    },
    "tags": []
   },
   "source": [
    "## 5.1 Model \n",
    "\n",
    "The `StratifiedKfold` val paired with `N_estimators` and `max_depth` had majority of impact in bumping the `val_score` from 0.79 to 0.83"
   ]
  },
  {
   "cell_type": "code",
   "execution_count": 51,
   "id": "2aba1b9e",
   "metadata": {
    "execution": {
     "iopub.execute_input": "2023-01-04T17:01:10.809329Z",
     "iopub.status.busy": "2023-01-04T17:01:10.808573Z",
     "iopub.status.idle": "2023-01-04T17:01:10.814140Z",
     "shell.execute_reply": "2023-01-04T17:01:10.813254Z"
    },
    "papermill": {
     "duration": 0.034505,
     "end_time": "2023-01-04T17:01:10.816594",
     "exception": false,
     "start_time": "2023-01-04T17:01:10.782089",
     "status": "completed"
    },
    "tags": []
   },
   "outputs": [],
   "source": [
    "clf = RandomForestClassifier(n_estimators = 1170, \n",
    "                             oob_score = True,\n",
    "                             max_depth = 7, # makes the most difference  \n",
    "                             min_samples_split=6, \n",
    "                             min_samples_leaf=6,\n",
    "                             random_state = seed_value, \n",
    "                             verbose = 1)"
   ]
  },
  {
   "cell_type": "markdown",
   "id": "9944c04b",
   "metadata": {
    "papermill": {
     "duration": 0.024458,
     "end_time": "2023-01-04T17:01:10.867419",
     "exception": false,
     "start_time": "2023-01-04T17:01:10.842961",
     "status": "completed"
    },
    "tags": []
   },
   "source": [
    "## 5.2 StratifiedKFold"
   ]
  },
  {
   "cell_type": "code",
   "execution_count": 52,
   "id": "33344585",
   "metadata": {
    "execution": {
     "iopub.execute_input": "2023-01-04T17:01:10.918449Z",
     "iopub.status.busy": "2023-01-04T17:01:10.918024Z",
     "iopub.status.idle": "2023-01-04T17:01:27.154959Z",
     "shell.execute_reply": "2023-01-04T17:01:27.152961Z"
    },
    "papermill": {
     "duration": 16.265487,
     "end_time": "2023-01-04T17:01:27.157585",
     "exception": false,
     "start_time": "2023-01-04T17:01:10.892098",
     "status": "completed"
    },
    "tags": []
   },
   "outputs": [
    {
     "name": "stdout",
     "output_type": "stream",
     "text": [
      "Fold 1\n",
      "\n"
     ]
    },
    {
     "name": "stderr",
     "output_type": "stream",
     "text": [
      "[Parallel(n_jobs=1)]: Done  49 tasks      | elapsed:    0.0s\n",
      "[Parallel(n_jobs=1)]: Done 199 tasks      | elapsed:    0.1s\n",
      "[Parallel(n_jobs=1)]: Done 449 tasks      | elapsed:    0.3s\n",
      "[Parallel(n_jobs=1)]: Done 799 tasks      | elapsed:    0.6s\n",
      "[Parallel(n_jobs=1)]: Done  49 tasks      | elapsed:    0.0s\n",
      "[Parallel(n_jobs=1)]: Done 199 tasks      | elapsed:    0.0s\n",
      "[Parallel(n_jobs=1)]: Done 449 tasks      | elapsed:    0.0s\n",
      "[Parallel(n_jobs=1)]: Done 799 tasks      | elapsed:    0.0s\n",
      "[Parallel(n_jobs=1)]: Done  49 tasks      | elapsed:    0.0s\n",
      "[Parallel(n_jobs=1)]: Done 199 tasks      | elapsed:    0.0s\n",
      "[Parallel(n_jobs=1)]: Done 449 tasks      | elapsed:    0.0s\n",
      "[Parallel(n_jobs=1)]: Done 799 tasks      | elapsed:    0.0s\n",
      "[Parallel(n_jobs=1)]: Done  49 tasks      | elapsed:    0.0s\n",
      "[Parallel(n_jobs=1)]: Done 199 tasks      | elapsed:    0.0s\n",
      "[Parallel(n_jobs=1)]: Done 449 tasks      | elapsed:    0.0s\n",
      "[Parallel(n_jobs=1)]: Done 799 tasks      | elapsed:    0.0s\n",
      "[Parallel(n_jobs=1)]: Done  49 tasks      | elapsed:    0.0s\n",
      "[Parallel(n_jobs=1)]: Done 199 tasks      | elapsed:    0.0s\n",
      "[Parallel(n_jobs=1)]: Done 449 tasks      | elapsed:    0.0s\n",
      "[Parallel(n_jobs=1)]: Done 799 tasks      | elapsed:    0.0s\n"
     ]
    },
    {
     "name": "stdout",
     "output_type": "stream",
     "text": [
      "Fold 1 OOB Score: 0.8400702987697716\n",
      "\n",
      "Fold 2\n",
      "\n"
     ]
    },
    {
     "name": "stderr",
     "output_type": "stream",
     "text": [
      "[Parallel(n_jobs=1)]: Done  49 tasks      | elapsed:    0.0s\n",
      "[Parallel(n_jobs=1)]: Done 199 tasks      | elapsed:    0.1s\n",
      "[Parallel(n_jobs=1)]: Done 449 tasks      | elapsed:    0.4s\n",
      "[Parallel(n_jobs=1)]: Done 799 tasks      | elapsed:    0.7s\n",
      "[Parallel(n_jobs=1)]: Done  49 tasks      | elapsed:    0.0s\n",
      "[Parallel(n_jobs=1)]: Done 199 tasks      | elapsed:    0.0s\n",
      "[Parallel(n_jobs=1)]: Done 449 tasks      | elapsed:    0.0s\n",
      "[Parallel(n_jobs=1)]: Done 799 tasks      | elapsed:    0.0s\n",
      "[Parallel(n_jobs=1)]: Done  49 tasks      | elapsed:    0.0s\n",
      "[Parallel(n_jobs=1)]: Done 199 tasks      | elapsed:    0.0s\n",
      "[Parallel(n_jobs=1)]: Done 449 tasks      | elapsed:    0.0s\n",
      "[Parallel(n_jobs=1)]: Done 799 tasks      | elapsed:    0.0s\n",
      "[Parallel(n_jobs=1)]: Done  49 tasks      | elapsed:    0.0s\n",
      "[Parallel(n_jobs=1)]: Done 199 tasks      | elapsed:    0.0s\n",
      "[Parallel(n_jobs=1)]: Done 449 tasks      | elapsed:    0.0s\n",
      "[Parallel(n_jobs=1)]: Done 799 tasks      | elapsed:    0.0s\n",
      "[Parallel(n_jobs=1)]: Done  49 tasks      | elapsed:    0.0s\n",
      "[Parallel(n_jobs=1)]: Done 199 tasks      | elapsed:    0.0s\n",
      "[Parallel(n_jobs=1)]: Done 449 tasks      | elapsed:    0.0s\n",
      "[Parallel(n_jobs=1)]: Done 799 tasks      | elapsed:    0.0s\n"
     ]
    },
    {
     "name": "stdout",
     "output_type": "stream",
     "text": [
      "Fold 2 OOB Score: 0.8172231985940246\n",
      "\n",
      "Fold 3\n",
      "\n"
     ]
    },
    {
     "name": "stderr",
     "output_type": "stream",
     "text": [
      "[Parallel(n_jobs=1)]: Done  49 tasks      | elapsed:    0.0s\n",
      "[Parallel(n_jobs=1)]: Done 199 tasks      | elapsed:    0.1s\n",
      "[Parallel(n_jobs=1)]: Done 449 tasks      | elapsed:    0.3s\n",
      "[Parallel(n_jobs=1)]: Done 799 tasks      | elapsed:    0.6s\n",
      "[Parallel(n_jobs=1)]: Done  49 tasks      | elapsed:    0.0s\n",
      "[Parallel(n_jobs=1)]: Done 199 tasks      | elapsed:    0.0s\n",
      "[Parallel(n_jobs=1)]: Done 449 tasks      | elapsed:    0.0s\n",
      "[Parallel(n_jobs=1)]: Done 799 tasks      | elapsed:    0.0s\n",
      "[Parallel(n_jobs=1)]: Done  49 tasks      | elapsed:    0.0s\n",
      "[Parallel(n_jobs=1)]: Done 199 tasks      | elapsed:    0.0s\n",
      "[Parallel(n_jobs=1)]: Done 449 tasks      | elapsed:    0.0s\n",
      "[Parallel(n_jobs=1)]: Done 799 tasks      | elapsed:    0.0s\n",
      "[Parallel(n_jobs=1)]: Done  49 tasks      | elapsed:    0.0s\n",
      "[Parallel(n_jobs=1)]: Done 199 tasks      | elapsed:    0.0s\n",
      "[Parallel(n_jobs=1)]: Done 449 tasks      | elapsed:    0.0s\n",
      "[Parallel(n_jobs=1)]: Done 799 tasks      | elapsed:    0.0s\n",
      "[Parallel(n_jobs=1)]: Done  49 tasks      | elapsed:    0.0s\n",
      "[Parallel(n_jobs=1)]: Done 199 tasks      | elapsed:    0.0s\n",
      "[Parallel(n_jobs=1)]: Done 449 tasks      | elapsed:    0.0s\n",
      "[Parallel(n_jobs=1)]: Done 799 tasks      | elapsed:    0.0s\n"
     ]
    },
    {
     "name": "stdout",
     "output_type": "stream",
     "text": [
      "Fold 3 OOB Score: 0.8315789473684211\n",
      "\n",
      "Fold 4\n",
      "\n"
     ]
    },
    {
     "name": "stderr",
     "output_type": "stream",
     "text": [
      "[Parallel(n_jobs=1)]: Done  49 tasks      | elapsed:    0.0s\n",
      "[Parallel(n_jobs=1)]: Done 199 tasks      | elapsed:    0.1s\n",
      "[Parallel(n_jobs=1)]: Done 449 tasks      | elapsed:    0.3s\n",
      "[Parallel(n_jobs=1)]: Done 799 tasks      | elapsed:    0.6s\n",
      "[Parallel(n_jobs=1)]: Done  49 tasks      | elapsed:    0.0s\n",
      "[Parallel(n_jobs=1)]: Done 199 tasks      | elapsed:    0.0s\n",
      "[Parallel(n_jobs=1)]: Done 449 tasks      | elapsed:    0.0s\n",
      "[Parallel(n_jobs=1)]: Done 799 tasks      | elapsed:    0.0s\n",
      "[Parallel(n_jobs=1)]: Done  49 tasks      | elapsed:    0.0s\n",
      "[Parallel(n_jobs=1)]: Done 199 tasks      | elapsed:    0.0s\n",
      "[Parallel(n_jobs=1)]: Done 449 tasks      | elapsed:    0.0s\n",
      "[Parallel(n_jobs=1)]: Done 799 tasks      | elapsed:    0.0s\n",
      "[Parallel(n_jobs=1)]: Done  49 tasks      | elapsed:    0.0s\n",
      "[Parallel(n_jobs=1)]: Done 199 tasks      | elapsed:    0.0s\n",
      "[Parallel(n_jobs=1)]: Done 449 tasks      | elapsed:    0.0s\n",
      "[Parallel(n_jobs=1)]: Done 799 tasks      | elapsed:    0.0s\n",
      "[Parallel(n_jobs=1)]: Done  49 tasks      | elapsed:    0.0s\n",
      "[Parallel(n_jobs=1)]: Done 199 tasks      | elapsed:    0.0s\n",
      "[Parallel(n_jobs=1)]: Done 449 tasks      | elapsed:    0.0s\n",
      "[Parallel(n_jobs=1)]: Done 799 tasks      | elapsed:    0.0s\n"
     ]
    },
    {
     "name": "stdout",
     "output_type": "stream",
     "text": [
      "Fold 4 OOB Score: 0.8315789473684211\n",
      "\n",
      "Fold 5\n",
      "\n"
     ]
    },
    {
     "name": "stderr",
     "output_type": "stream",
     "text": [
      "[Parallel(n_jobs=1)]: Done  49 tasks      | elapsed:    0.0s\n",
      "[Parallel(n_jobs=1)]: Done 199 tasks      | elapsed:    0.1s\n",
      "[Parallel(n_jobs=1)]: Done 449 tasks      | elapsed:    0.3s\n",
      "[Parallel(n_jobs=1)]: Done 799 tasks      | elapsed:    0.7s\n",
      "[Parallel(n_jobs=1)]: Done  49 tasks      | elapsed:    0.0s\n",
      "[Parallel(n_jobs=1)]: Done 199 tasks      | elapsed:    0.0s\n",
      "[Parallel(n_jobs=1)]: Done 449 tasks      | elapsed:    0.0s\n",
      "[Parallel(n_jobs=1)]: Done 799 tasks      | elapsed:    0.0s\n",
      "[Parallel(n_jobs=1)]: Done  49 tasks      | elapsed:    0.0s\n",
      "[Parallel(n_jobs=1)]: Done 199 tasks      | elapsed:    0.0s\n",
      "[Parallel(n_jobs=1)]: Done 449 tasks      | elapsed:    0.0s\n",
      "[Parallel(n_jobs=1)]: Done 799 tasks      | elapsed:    0.0s\n",
      "[Parallel(n_jobs=1)]: Done  49 tasks      | elapsed:    0.0s\n",
      "[Parallel(n_jobs=1)]: Done 199 tasks      | elapsed:    0.0s\n"
     ]
    },
    {
     "name": "stdout",
     "output_type": "stream",
     "text": [
      "Fold 5 OOB Score: 0.8333333333333334\n",
      "\n",
      "Average OOB Score: 0.8307569450867942\n"
     ]
    },
    {
     "name": "stderr",
     "output_type": "stream",
     "text": [
      "[Parallel(n_jobs=1)]: Done 449 tasks      | elapsed:    0.0s\n",
      "[Parallel(n_jobs=1)]: Done 799 tasks      | elapsed:    0.0s\n",
      "[Parallel(n_jobs=1)]: Done  49 tasks      | elapsed:    0.0s\n",
      "[Parallel(n_jobs=1)]: Done 199 tasks      | elapsed:    0.0s\n",
      "[Parallel(n_jobs=1)]: Done 449 tasks      | elapsed:    0.0s\n",
      "[Parallel(n_jobs=1)]: Done 799 tasks      | elapsed:    0.0s\n"
     ]
    }
   ],
   "source": [
    "N = 5\n",
    "oob = 0\n",
    "probs = pd.DataFrame(np.zeros((len(X_test), N * 2)), columns=['Fold_{}_Prob_{}'.format(i, j) for i in range(1, N + 1) for j in range(2)])\n",
    "importances = pd.DataFrame(np.zeros((X_train.shape[1], N)), columns=['Fold_{}'.format(i) for i in range(1, N + 1)], index=train_columns)\n",
    "fprs, tprs, scores = [], [], []\n",
    "\n",
    "skf = StratifiedKFold(n_splits=N, random_state=seed_value, shuffle=True)\n",
    "\n",
    "for fold, (trn_idx, val_idx) in enumerate(skf.split(X_train, y_train), 1):\n",
    "    print('Fold {}\\n'.format(fold))\n",
    "    \n",
    "    # Fitting the model\n",
    "    clf.fit(X_train[trn_idx], y_train[trn_idx])\n",
    "    \n",
    "    # Computing Train AUC score\n",
    "    trn_fpr, trn_tpr, trn_thresholds = roc_curve(y_train[trn_idx], clf.predict_proba(X_train[trn_idx])[:, 1])\n",
    "    trn_auc_score = auc(trn_fpr, trn_tpr)\n",
    "    \n",
    "    # Computing Validation AUC score\n",
    "    val_fpr, val_tpr, val_thresholds = roc_curve(y_train[val_idx], clf.predict_proba(X_train[val_idx])[:, 1])\n",
    "    val_auc_score = auc(val_fpr, val_tpr)  \n",
    "      \n",
    "    scores.append((trn_auc_score, val_auc_score))\n",
    "    fprs.append(val_fpr)\n",
    "    tprs.append(val_tpr)\n",
    "    \n",
    "    # X_test probabilities\n",
    "    probs.loc[:, 'Fold_{}_Prob_0'.format(fold)] = clf.predict_proba(X_test)[:, 0]\n",
    "    probs.loc[:, 'Fold_{}_Prob_1'.format(fold)] = clf.predict_proba(X_test)[:, 1]\n",
    "    importances.iloc[:, fold - 1] = clf.feature_importances_\n",
    "        \n",
    "    oob += clf.oob_score_ / N\n",
    "    print('Fold {} OOB Score: {}\\n'.format(fold, clf.oob_score_))   \n",
    "    \n",
    "print('Average OOB Score: {}'.format(oob))"
   ]
  },
  {
   "cell_type": "markdown",
   "id": "edce8f1d",
   "metadata": {
    "papermill": {
     "duration": 0.027188,
     "end_time": "2023-01-04T17:01:27.212464",
     "exception": false,
     "start_time": "2023-01-04T17:01:27.185276",
     "status": "completed"
    },
    "tags": []
   },
   "source": [
    "## 5.3 Feature Importance"
   ]
  },
  {
   "cell_type": "code",
   "execution_count": 53,
   "id": "1f2a4382",
   "metadata": {
    "_kg_hide-input": true,
    "execution": {
     "iopub.execute_input": "2023-01-04T17:01:27.269208Z",
     "iopub.status.busy": "2023-01-04T17:01:27.268785Z",
     "iopub.status.idle": "2023-01-04T17:01:27.401957Z",
     "shell.execute_reply": "2023-01-04T17:01:27.400359Z"
    },
    "papermill": {
     "duration": 0.164333,
     "end_time": "2023-01-04T17:01:27.404205",
     "exception": false,
     "start_time": "2023-01-04T17:01:27.239872",
     "status": "completed"
    },
    "tags": []
   },
   "outputs": [
    {
     "name": "stdout",
     "output_type": "stream",
     "text": [
      "Feature Importance:\n"
     ]
    },
    {
     "data": {
      "text/html": [
       "<div>\n",
       "<style scoped>\n",
       "    .dataframe tbody tr th:only-of-type {\n",
       "        vertical-align: middle;\n",
       "    }\n",
       "\n",
       "    .dataframe tbody tr th {\n",
       "        vertical-align: top;\n",
       "    }\n",
       "\n",
       "    .dataframe thead th {\n",
       "        text-align: right;\n",
       "    }\n",
       "</style>\n",
       "<table border=\"1\" class=\"dataframe\">\n",
       "  <thead>\n",
       "    <tr style=\"text-align: right;\">\n",
       "      <th></th>\n",
       "      <th>importance</th>\n",
       "    </tr>\n",
       "    <tr>\n",
       "      <th>feature</th>\n",
       "      <th></th>\n",
       "    </tr>\n",
       "  </thead>\n",
       "  <tbody>\n",
       "    <tr>\n",
       "      <th>Title_3</th>\n",
       "      <td>0.189</td>\n",
       "    </tr>\n",
       "    <tr>\n",
       "      <th>Sex_1</th>\n",
       "      <td>0.163</td>\n",
       "    </tr>\n",
       "    <tr>\n",
       "      <th>Sex_2</th>\n",
       "      <td>0.159</td>\n",
       "    </tr>\n",
       "    <tr>\n",
       "      <th>Pclass_3</th>\n",
       "      <td>0.063</td>\n",
       "    </tr>\n",
       "    <tr>\n",
       "      <th>Title_4</th>\n",
       "      <td>0.056</td>\n",
       "    </tr>\n",
       "    <tr>\n",
       "      <th>Fare</th>\n",
       "      <td>0.054</td>\n",
       "    </tr>\n",
       "    <tr>\n",
       "      <th>Ticket_Frequency</th>\n",
       "      <td>0.047</td>\n",
       "    </tr>\n",
       "    <tr>\n",
       "      <th>Title_2</th>\n",
       "      <td>0.045</td>\n",
       "    </tr>\n",
       "    <tr>\n",
       "      <th>Age group</th>\n",
       "      <td>0.035</td>\n",
       "    </tr>\n",
       "    <tr>\n",
       "      <th>Fam Size grouped_4</th>\n",
       "      <td>0.035</td>\n",
       "    </tr>\n",
       "    <tr>\n",
       "      <th>Deck_4</th>\n",
       "      <td>0.034</td>\n",
       "    </tr>\n",
       "    <tr>\n",
       "      <th>Pclass_1</th>\n",
       "      <td>0.023</td>\n",
       "    </tr>\n",
       "    <tr>\n",
       "      <th>Pclass_2</th>\n",
       "      <td>0.017</td>\n",
       "    </tr>\n",
       "    <tr>\n",
       "      <th>Deck_2</th>\n",
       "      <td>0.012</td>\n",
       "    </tr>\n",
       "    <tr>\n",
       "      <th>Title_1</th>\n",
       "      <td>0.011</td>\n",
       "    </tr>\n",
       "    <tr>\n",
       "      <th>Fam Size grouped_1</th>\n",
       "      <td>0.011</td>\n",
       "    </tr>\n",
       "    <tr>\n",
       "      <th>Fam Size grouped_3</th>\n",
       "      <td>0.011</td>\n",
       "    </tr>\n",
       "    <tr>\n",
       "      <th>Embarked_3</th>\n",
       "      <td>0.010</td>\n",
       "    </tr>\n",
       "    <tr>\n",
       "      <th>Embarked_1</th>\n",
       "      <td>0.008</td>\n",
       "    </tr>\n",
       "    <tr>\n",
       "      <th>Deck_1</th>\n",
       "      <td>0.007</td>\n",
       "    </tr>\n",
       "    <tr>\n",
       "      <th>Embarked_2</th>\n",
       "      <td>0.004</td>\n",
       "    </tr>\n",
       "    <tr>\n",
       "      <th>Fam Size grouped_2</th>\n",
       "      <td>0.004</td>\n",
       "    </tr>\n",
       "    <tr>\n",
       "      <th>Title_5</th>\n",
       "      <td>0.002</td>\n",
       "    </tr>\n",
       "    <tr>\n",
       "      <th>Deck_3</th>\n",
       "      <td>0.000</td>\n",
       "    </tr>\n",
       "  </tbody>\n",
       "</table>\n",
       "</div>"
      ],
      "text/plain": [
       "                    importance\n",
       "feature                       \n",
       "Title_3                  0.189\n",
       "Sex_1                    0.163\n",
       "Sex_2                    0.159\n",
       "Pclass_3                 0.063\n",
       "Title_4                  0.056\n",
       "Fare                     0.054\n",
       "Ticket_Frequency         0.047\n",
       "Title_2                  0.045\n",
       "Age group                0.035\n",
       "Fam Size grouped_4       0.035\n",
       "Deck_4                   0.034\n",
       "Pclass_1                 0.023\n",
       "Pclass_2                 0.017\n",
       "Deck_2                   0.012\n",
       "Title_1                  0.011\n",
       "Fam Size grouped_1       0.011\n",
       "Fam Size grouped_3       0.011\n",
       "Embarked_3               0.010\n",
       "Embarked_1               0.008\n",
       "Deck_1                   0.007\n",
       "Embarked_2               0.004\n",
       "Fam Size grouped_2       0.004\n",
       "Title_5                  0.002\n",
       "Deck_3                   0.000"
      ]
     },
     "execution_count": 53,
     "metadata": {},
     "output_type": "execute_result"
    }
   ],
   "source": [
    "importances = pd.DataFrame({'feature':train_columns,'importance':np.round(clf.feature_importances_,3)})\n",
    "importances = importances.sort_values('importance',ascending=False).set_index('feature')\n",
    "\n",
    "print('Feature Importance:')\n",
    "importances"
   ]
  },
  {
   "cell_type": "code",
   "execution_count": 54,
   "id": "14f7c513",
   "metadata": {
    "_kg_hide-input": true,
    "execution": {
     "iopub.execute_input": "2023-01-04T17:01:27.460377Z",
     "iopub.status.busy": "2023-01-04T17:01:27.459980Z",
     "iopub.status.idle": "2023-01-04T17:01:27.915650Z",
     "shell.execute_reply": "2023-01-04T17:01:27.914460Z"
    },
    "papermill": {
     "duration": 0.486614,
     "end_time": "2023-01-04T17:01:27.918165",
     "exception": false,
     "start_time": "2023-01-04T17:01:27.431551",
     "status": "completed"
    },
    "tags": []
   },
   "outputs": [
    {
     "data": {
      "text/plain": [
       "<Axes: xlabel='feature'>"
      ]
     },
     "execution_count": 54,
     "metadata": {},
     "output_type": "execute_result"
    },
    {
     "data": {
      "image/png": "[encoded data removed]",
      "text/plain": [
       "<Figure size 640x480 with 1 Axes>"
      ]
     },
     "metadata": {},
     "output_type": "display_data"
    }
   ],
   "source": [
    "importances.plot.bar()"
   ]
  },
  {
   "cell_type": "markdown",
   "id": "5b51ed72",
   "metadata": {
    "papermill": {
     "duration": 0.027883,
     "end_time": "2023-01-04T17:01:27.973783",
     "exception": false,
     "start_time": "2023-01-04T17:01:27.945900",
     "status": "completed"
    },
    "tags": []
   },
   "source": [
    "## 5.4 Evaluation"
   ]
  },
  {
   "cell_type": "code",
   "execution_count": 55,
   "id": "7ddd8622",
   "metadata": {
    "execution": {
     "iopub.execute_input": "2023-01-04T17:01:28.030535Z",
     "iopub.status.busy": "2023-01-04T17:01:28.030091Z",
     "iopub.status.idle": "2023-01-04T17:01:28.229873Z",
     "shell.execute_reply": "2023-01-04T17:01:28.228460Z"
    },
    "papermill": {
     "duration": 0.2315,
     "end_time": "2023-01-04T17:01:28.232704",
     "exception": false,
     "start_time": "2023-01-04T17:01:28.001204",
     "status": "completed"
    },
    "tags": []
   },
   "outputs": [
    {
     "name": "stderr",
     "output_type": "stream",
     "text": [
      "[Parallel(n_jobs=1)]: Done  49 tasks      | elapsed:    0.0s\n",
      "[Parallel(n_jobs=1)]: Done 199 tasks      | elapsed:    0.0s\n",
      "[Parallel(n_jobs=1)]: Done 449 tasks      | elapsed:    0.0s\n",
      "[Parallel(n_jobs=1)]: Done 799 tasks      | elapsed:    0.0s\n"
     ]
    }
   ],
   "source": [
    "predictions = clf.predict(X_test)"
   ]
  },
  {
   "cell_type": "markdown",
   "id": "eaad5915",
   "metadata": {
    "execution": {
     "iopub.execute_input": "2023-01-04T03:59:22.291240Z",
     "iopub.status.busy": "2023-01-04T03:59:22.289881Z",
     "iopub.status.idle": "2023-01-04T03:59:22.299751Z",
     "shell.execute_reply": "2023-01-04T03:59:22.297832Z",
     "shell.execute_reply.started": "2023-01-04T03:59:22.291185Z"
    },
    "papermill": {
     "duration": 0.028284,
     "end_time": "2023-01-04T17:01:28.289149",
     "exception": false,
     "start_time": "2023-01-04T17:01:28.260865",
     "status": "completed"
    },
    "tags": []
   },
   "source": [
    "Please note that the value for the y-test used here is extracted from the `gender_submission.csv` provided in the [data](https://www.kaggle.com/competitions/titanic/data) section of this competition.\n",
    "The predictions made in `gender_submission.csv` are made by assuming that only the female passengers survive. I added these just for a quick comparison with the predictions provided by the competition. \n",
    "Kindly only take the cross_validation accuracy as the true estimate of the model's accuracy. You can also get the accuracy from sklearn's in-built accuracy function. "
   ]
  },
  {
   "cell_type": "code",
   "execution_count": 56,
   "id": "9758b24d",
   "metadata": {
    "execution": {
     "iopub.execute_input": "2023-01-04T17:01:28.346684Z",
     "iopub.status.busy": "2023-01-04T17:01:28.346262Z",
     "iopub.status.idle": "2023-01-04T17:01:28.358419Z",
     "shell.execute_reply": "2023-01-04T17:01:28.357057Z"
    },
    "papermill": {
     "duration": 0.044439,
     "end_time": "2023-01-04T17:01:28.360994",
     "exception": false,
     "start_time": "2023-01-04T17:01:28.316555",
     "status": "completed"
    },
    "tags": []
   },
   "outputs": [
    {
     "name": "stdout",
     "output_type": "stream",
     "text": [
      "Classification Report:\n",
      "\n",
      "              precision    recall  f1-score   support\n",
      "\n",
      "           0       0.93      0.96      0.95       266\n",
      "           1       0.92      0.88      0.90       152\n",
      "\n",
      "    accuracy                           0.93       418\n",
      "   macro avg       0.93      0.92      0.92       418\n",
      "weighted avg       0.93      0.93      0.93       418\n",
      "\n"
     ]
    }
   ],
   "source": [
    "from sklearn.metrics import classification_report, confusion_matrix, ConfusionMatrixDisplay\n",
    "\n",
    "print('Classification Report:')\n",
    "print()\n",
    "print(classification_report(y_test, predictions))"
   ]
  },
  {
   "cell_type": "code",
   "execution_count": 57,
   "id": "4c400e59",
   "metadata": {
    "_kg_hide-input": true,
    "execution": {
     "iopub.execute_input": "2023-01-04T17:01:28.418316Z",
     "iopub.status.busy": "2023-01-04T17:01:28.417932Z",
     "iopub.status.idle": "2023-01-04T17:01:28.542574Z",
     "shell.execute_reply": "2023-01-04T17:01:28.540459Z"
    },
    "papermill": {
     "duration": 0.161484,
     "end_time": "2023-01-04T17:01:28.549890",
     "exception": false,
     "start_time": "2023-01-04T17:01:28.388406",
     "status": "completed"
    },
    "tags": []
   },
   "outputs": [
    {
     "name": "stdout",
     "output_type": "stream",
     "text": [
      "Confusion Matrix:\n",
      "\n"
     ]
    },
    {
     "data": {
      "image/png": "[encoded data removed]",
      "text/plain": [
       "<Figure size 640x480 with 1 Axes>"
      ]
     },
     "metadata": {},
     "output_type": "display_data"
    }
   ],
   "source": [
    "print('Confusion Matrix:')\n",
    "print()\n",
    "ConfusionMatrixDisplay.from_predictions(y_test, predictions, colorbar = False, cmap = 'flare')\n",
    "plt.grid(False)"
   ]
  },
  {
   "cell_type": "markdown",
   "id": "22b43024",
   "metadata": {
    "papermill": {
     "duration": 0.035134,
     "end_time": "2023-01-04T17:01:28.660203",
     "exception": false,
     "start_time": "2023-01-04T17:01:28.625069",
     "status": "completed"
    },
    "tags": []
   },
   "source": [
    "## 5.5 Submission"
   ]
  },
  {
   "cell_type": "code",
   "execution_count": 58,
   "id": "72d65a2b",
   "metadata": {
    "execution": {
     "iopub.execute_input": "2023-01-04T17:01:28.718298Z",
     "iopub.status.busy": "2023-01-04T17:01:28.717895Z",
     "iopub.status.idle": "2023-01-04T17:01:28.732600Z",
     "shell.execute_reply": "2023-01-04T17:01:28.731255Z"
    },
    "papermill": {
     "duration": 0.046517,
     "end_time": "2023-01-04T17:01:28.735267",
     "exception": false,
     "start_time": "2023-01-04T17:01:28.688750",
     "status": "completed"
    },
    "tags": []
   },
   "outputs": [
    {
     "data": {
      "text/html": [
       "<div>\n",
       "<style scoped>\n",
       "    .dataframe tbody tr th:only-of-type {\n",
       "        vertical-align: middle;\n",
       "    }\n",
       "\n",
       "    .dataframe tbody tr th {\n",
       "        vertical-align: top;\n",
       "    }\n",
       "\n",
       "    .dataframe thead th {\n",
       "        text-align: right;\n",
       "    }\n",
       "</style>\n",
       "<table border=\"1\" class=\"dataframe\">\n",
       "  <thead>\n",
       "    <tr style=\"text-align: right;\">\n",
       "      <th></th>\n",
       "      <th>PassengerId</th>\n",
       "      <th>Survived</th>\n",
       "    </tr>\n",
       "  </thead>\n",
       "  <tbody>\n",
       "    <tr>\n",
       "      <th>0</th>\n",
       "      <td>892</td>\n",
       "      <td>0</td>\n",
       "    </tr>\n",
       "    <tr>\n",
       "      <th>1</th>\n",
       "      <td>893</td>\n",
       "      <td>1</td>\n",
       "    </tr>\n",
       "    <tr>\n",
       "      <th>2</th>\n",
       "      <td>894</td>\n",
       "      <td>0</td>\n",
       "    </tr>\n",
       "    <tr>\n",
       "      <th>3</th>\n",
       "      <td>895</td>\n",
       "      <td>0</td>\n",
       "    </tr>\n",
       "    <tr>\n",
       "      <th>4</th>\n",
       "      <td>896</td>\n",
       "      <td>1</td>\n",
       "    </tr>\n",
       "  </tbody>\n",
       "</table>\n",
       "</div>"
      ],
      "text/plain": [
       "   PassengerId  Survived\n",
       "0          892         0\n",
       "1          893         1\n",
       "2          894         0\n",
       "3          895         0\n",
       "4          896         1"
      ]
     },
     "execution_count": 58,
     "metadata": {},
     "output_type": "execute_result"
    }
   ],
   "source": [
    "submission = pd.DataFrame(predictions, columns = ['Survived'])\n",
    "submission = pd.concat([test['PassengerId'], submission], axis = 1)\n",
    "submission.head()"
   ]
  },
  {
   "cell_type": "code",
   "execution_count": 59,
   "id": "7e38efaf",
   "metadata": {
    "execution": {
     "iopub.execute_input": "2023-01-04T17:01:28.793603Z",
     "iopub.status.busy": "2023-01-04T17:01:28.792370Z",
     "iopub.status.idle": "2023-01-04T17:01:28.809130Z",
     "shell.execute_reply": "2023-01-04T17:01:28.807677Z"
    },
    "papermill": {
     "duration": 0.048645,
     "end_time": "2023-01-04T17:01:28.811806",
     "exception": false,
     "start_time": "2023-01-04T17:01:28.763161",
     "status": "completed"
    },
    "tags": []
   },
   "outputs": [
    {
     "name": "stdout",
     "output_type": "stream",
     "text": [
      "<class 'pandas.core.frame.DataFrame'>\n",
      "RangeIndex: 418 entries, 0 to 417\n",
      "Data columns (total 2 columns):\n",
      " #   Column       Non-Null Count  Dtype\n",
      "---  ------       --------------  -----\n",
      " 0   PassengerId  418 non-null    int64\n",
      " 1   Survived     418 non-null    int64\n",
      "dtypes: int64(2)\n",
      "memory usage: 6.7 KB\n"
     ]
    }
   ],
   "source": [
    "submission.info()"
   ]
  },
  {
   "cell_type": "code",
   "execution_count": 60,
   "id": "33cd9602",
   "metadata": {
    "execution": {
     "iopub.execute_input": "2023-01-04T17:01:28.869906Z",
     "iopub.status.busy": "2023-01-04T17:01:28.869238Z",
     "iopub.status.idle": "2023-01-04T17:01:28.877038Z",
     "shell.execute_reply": "2023-01-04T17:01:28.875998Z"
    },
    "papermill": {
     "duration": 0.03947,
     "end_time": "2023-01-04T17:01:28.879220",
     "exception": false,
     "start_time": "2023-01-04T17:01:28.839750",
     "status": "completed"
    },
    "tags": []
   },
   "outputs": [
    {
     "data": {
      "text/plain": [
       "Survived\n",
       "0    273\n",
       "1    145\n",
       "Name: count, dtype: int64"
      ]
     },
     "execution_count": 60,
     "metadata": {},
     "output_type": "execute_result"
    }
   ],
   "source": [
    "submission['Survived'].value_counts()"
   ]
  },
  {
   "cell_type": "code",
   "execution_count": 61,
   "id": "f01032eb",
   "metadata": {
    "execution": {
     "iopub.execute_input": "2023-01-04T17:01:28.937091Z",
     "iopub.status.busy": "2023-01-04T17:01:28.936664Z",
     "iopub.status.idle": "2023-01-04T17:01:28.945392Z",
     "shell.execute_reply": "2023-01-04T17:01:28.944466Z"
    },
    "papermill": {
     "duration": 0.040248,
     "end_time": "2023-01-04T17:01:28.947707",
     "exception": false,
     "start_time": "2023-01-04T17:01:28.907459",
     "status": "completed"
    },
    "tags": []
   },
   "outputs": [],
   "source": [
    "submission = submission.to_csv('kaggle_titanic.csv',index=False)"
   ]
  },
  {
   "cell_type": "markdown",
   "id": "21076bc2",
   "metadata": {
    "papermill": {
     "duration": 0.027615,
     "end_time": "2023-01-04T17:01:29.004314",
     "exception": false,
     "start_time": "2023-01-04T17:01:28.976699",
     "status": "completed"
    },
    "tags": []
   },
   "source": [
    "## 5.6 References"
   ]
  },
  {
   "cell_type": "markdown",
   "id": "14b58b90",
   "metadata": {
    "papermill": {
     "duration": 0.028498,
     "end_time": "2023-01-04T17:01:29.061077",
     "exception": false,
     "start_time": "2023-01-04T17:01:29.032579",
     "status": "completed"
    },
    "tags": []
   },
   "source": [
    "The params for the clf, Stratified kfold val and a lil bit of feature engineering was implemented/taken from [this notebook](https://www.kaggle.com/code/gunesevitan/titanic-advanced-feature-engineering-tutorial) "
   ]
  }
 ],
 "metadata": {
  "kernelspec": {
   "display_name": "Python 3",
   "language": "python",
   "name": "python3"
  },
  "language_info": {
   "codemirror_mode": {
    "name": "ipython",
    "version": 3
   },
   "file_extension": ".py",
   "mimetype": "text/x-python",
   "name": "python",
   "nbconvert_exporter": "python",
   "pygments_lexer": "ipython3",
   "version": "3.12.0"
  },
  "papermill": {
   "default_parameters": {},
   "duration": 46.232783,
   "end_time": "2023-01-04T17:01:32.130851",
   "environment_variables": {},
   "exception": null,
   "input_path": "__notebook__.ipynb",
   "output_path": "__notebook__.ipynb",
   "parameters": {},
   "start_time": "2023-01-04T17:00:45.898068",
   "version": "2.3.4"
  }
 },
 "nbformat": 4,
 "nbformat_minor": 5
}
