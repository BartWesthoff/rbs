{
 "cells": [
  {
   "cell_type": "markdown",
   "metadata": {},
   "source": [
    "## 0. Install required libraries and Import them"
   ]
  },
  {
   "cell_type": "code",
   "execution_count": 10,
   "metadata": {},
   "outputs": [],
   "source": [
    "# Install required libraries\n",
    "# !pip install transformers datasets torch numpy scikit-learn accelerate     ## uncomment if running in a new environment\n",
    "\n",
    "# Import necessary libraries\n",
    "from transformers import AutoModelForSequenceClassification, AutoTokenizer, Trainer, TrainingArguments\n",
    "from datasets import Dataset\n",
    "import torch\n",
    "import numpy as np\n",
    "from sklearn.metrics import accuracy_score\n",
    "import pickle\n"
   ]
  },
  {
   "cell_type": "markdown",
   "metadata": {},
   "source": [
    "## 1. Load & sample dataset"
   ]
  },
  {
   "cell_type": "code",
   "execution_count": 11,
   "metadata": {},
   "outputs": [],
   "source": [
    "# Load dataset\n",
    "train_data = pickle.load(open(\"train_data.pkl\", \"rb\"))\n",
    "test_data = pickle.load(open(\"test_data.pkl\", \"rb\"))\n",
    "\n",
    "# Create Dataset objects\n",
    "train_dataset = Dataset.from_list(train_data)\n",
    "test_dataset = Dataset.from_list(test_data)\n",
    "\n",
    "# Select subsets for a quick demo (1000 examples each)\n",
    "train_dataset = train_dataset.shuffle(seed=42).select(range(1000))\n",
    "test_dataset = test_dataset.shuffle(seed=42).select(range(1000))\n",
    "\n",
    "# Pick 3 examples to show predictions before and after finetuning\n",
    "examples = test_dataset.select(range(5))\n"
   ]
  },
  {
   "cell_type": "markdown",
   "metadata": {},
   "source": [
    "## 2. Load the and prepare the model and tokenizer"
   ]
  },
  {
   "cell_type": "code",
   "execution_count": 12,
   "metadata": {},
   "outputs": [
    {
     "name": "stdout",
     "output_type": "stream",
     "text": [
      "Loading the DistilBERT model and tokenizer...\n"
     ]
    },
    {
     "name": "stderr",
     "output_type": "stream",
     "text": [
      "Some weights of DistilBertForSequenceClassification were not initialized from the model checkpoint at distilbert-base-uncased and are newly initialized: ['classifier.bias', 'classifier.weight', 'pre_classifier.bias', 'pre_classifier.weight']\n",
      "You should probably TRAIN this model on a down-stream task to be able to use it for predictions and inference.\n"
     ]
    }
   ],
   "source": [
    "# Load the DistilBERT model and tokenizer\n",
    "print(\"Loading the DistilBERT model and tokenizer...\")\n",
    "tokenizer = AutoTokenizer.from_pretrained('distilbert-base-uncased')\n",
    "model = AutoModelForSequenceClassification.from_pretrained('distilbert-base-uncased', num_labels=2)\n",
    "\n",
    "# Function to predict sentiment for a single example\n",
    "def predict(model, tokenizer, example):\n",
    "    text = example['text']\n",
    "    # Tokenize the text and prepare it for the model\n",
    "    inputs = tokenizer(text, return_tensors='pt', padding=True, truncation=True, max_length=512)\n",
    "    # Ensure inputs are on the same device as the model (CPU or GPU)\n",
    "    device = next(model.parameters()).device\n",
    "    inputs = {k: v.to(device) for k, v in inputs.items()}\n",
    "    # Make prediction without computing gradients (faster)\n",
    "    with torch.no_grad():\n",
    "        outputs = model(**inputs)\n",
    "    logits = outputs.logits\n",
    "    predicted_label = torch.argmax(logits, dim=1).item()  # 0 = negative, 1 = positive\n",
    "    return predicted_label\n"
   ]
  },
  {
   "cell_type": "markdown",
   "metadata": {},
   "source": [
    "## 3. Tokenize dataset"
   ]
  },
  {
   "cell_type": "code",
   "execution_count": 13,
   "metadata": {},
   "outputs": [
    {
     "name": "stdout",
     "output_type": "stream",
     "text": [
      "\n",
      "Tokenizing the datasets...\n"
     ]
    },
    {
     "data": {
      "application/vnd.jupyter.widget-view+json": {
       "model_id": "d7c79bd1323644bfbf1b5a62df84ddc7",
       "version_major": 2,
       "version_minor": 0
      },
      "text/plain": [
       "Map:   0%|          | 0/1000 [00:00<?, ? examples/s]"
      ]
     },
     "metadata": {},
     "output_type": "display_data"
    },
    {
     "data": {
      "application/vnd.jupyter.widget-view+json": {
       "model_id": "17485f35c36f43b696af7a15da2d9d7d",
       "version_major": 2,
       "version_minor": 0
      },
      "text/plain": [
       "Map:   0%|          | 0/1000 [00:00<?, ? examples/s]"
      ]
     },
     "metadata": {},
     "output_type": "display_data"
    }
   ],
   "source": [
    "# Tokenize the datasets\n",
    "print(\"\\nTokenizing the datasets...\")\n",
    "def tokenize_function(examples):\n",
    "    return tokenizer(examples['text'], padding='max_length', truncation=True)\n",
    "\n",
    "tokenized_train = train_dataset.map(tokenize_function, batched=True)\n",
    "tokenized_test = test_dataset.map(tokenize_function, batched=True)\n",
    "# Set format to PyTorch tensors, keeping only necessary columns\n",
    "tokenized_train.set_format('pt', columns=['input_ids', 'attention_mask', 'label'])\n",
    "tokenized_test.set_format('pt', columns=['input_ids', 'attention_mask', 'label'])\n"
   ]
  },
  {
   "cell_type": "markdown",
   "metadata": {},
   "source": [
    "## 4. Setup trainer with parameters"
   ]
  },
  {
   "cell_type": "code",
   "execution_count": null,
   "metadata": {},
   "outputs": [],
   "source": [
    "# Define a function to compute accuracy during evaluation (needed for Trainer)\n",
    "def compute_metrics(eval_pred):\n",
    "    logits, labels = eval_pred\n",
    "    predictions = np.argmax(logits, axis=-1)\n",
    "    return {'accuracy': accuracy_score(labels, predictions)}\n",
    "\n",
    "# Set up training arguments\n",
    "training_args = TrainingArguments(\n",
    "    output_dir='./results',              # Where to save the model\n",
    "    num_train_epochs=1,                  # Train for 1 epoch to keep it quick\n",
    "    per_device_train_batch_size=4,       # Batch size for training\n",
    "    per_device_eval_batch_size=4,        # Batch size for evaluation\n",
    "    logging_dir='./logs',                # Where to save logs\n",
    "    eval_strategy='no',                  # We'll evaluate manually\n",
    ")\n",
    "\n",
    "# Create the Trainer instance\n",
    "trainer = Trainer(\n",
    "    model=model,\n",
    "    args=training_args,\n",
    "    train_dataset=tokenized_train,\n",
    "    eval_dataset=tokenized_test,\n",
    "    compute_metrics=compute_metrics,\n",
    ")\n"
   ]
  },
  {
   "cell_type": "markdown",
   "metadata": {},
   "source": [
    "## 5. Finetuning & evaluation "
   ]
  },
  {
   "cell_type": "markdown",
   "metadata": {},
   "source": [
    "### Pre finetune evaluation"
   ]
  },
  {
   "cell_type": "code",
   "execution_count": 15,
   "metadata": {},
   "outputs": [
    {
     "name": "stdout",
     "output_type": "stream",
     "text": [
      "\n",
      "Evaluating model before finetuning...\n"
     ]
    },
    {
     "data": {
      "text/html": [
       "\n",
       "    <div>\n",
       "      \n",
       "      <progress value='500' max='250' style='width:300px; height:20px; vertical-align: middle;'></progress>\n",
       "      [250/250 05:04]\n",
       "    </div>\n",
       "    "
      ],
      "text/plain": [
       "<IPython.core.display.HTML object>"
      ]
     },
     "metadata": {},
     "output_type": "display_data"
    },
    {
     "name": "stdout",
     "output_type": "stream",
     "text": [
      "Pre-finetuning accuracy: 0.4880\n",
      "\n",
      "Pre-finetuning predictions:\n",
      "Text: CONGO is probably the worst big-budget movie of the 1990s. It is so bad that it is watchable over an...\n",
      "True label: 0, Predicted label: 0\n",
      "Text: The acting was terrible, the cheesy, fake, CHEAP green screen effects were ridiculous, and the creat...\n",
      "True label: 0, Predicted label: 0\n",
      "Text: This movie is a sleeper - I've watched every miniseries that was ever on TV, some many times, and th...\n",
      "True label: 1, Predicted label: 0\n",
      "Text: Before I had seen this film, I had heard some negative comments about it. However, when watching it ...\n",
      "True label: 0, Predicted label: 0\n",
      "Text: As i watched \"Wirey Spindell\" i couldnt but laugh at what was taking place on screen. Wirey sure got...\n",
      "True label: 1, Predicted label: 0\n"
     ]
    }
   ],
   "source": [
    "# Pre-finetuning evaluation\n",
    "print(\"\\nEvaluating model before finetuning...\")\n",
    "pre_eval = trainer.evaluate()\n",
    "print(f\"Pre-finetuning accuracy: {pre_eval['eval_accuracy']:.4f}\")\n",
    "\n",
    "# Show predictions before finetuning\n",
    "print(\"\\nPre-finetuning predictions:\")\n",
    "for example in examples:\n",
    "    predicted_label = predict(model, tokenizer, example)\n",
    "    print(f\"Text: {example['text'][:100]}...\")  # Show first 100 characters\n",
    "    print(f\"True label: {example['label']}, Predicted label: {predicted_label}\")\n"
   ]
  },
  {
   "cell_type": "markdown",
   "metadata": {},
   "source": [
    "### Finetuning (training the model)"
   ]
  },
  {
   "cell_type": "code",
   "execution_count": 16,
   "metadata": {},
   "outputs": [
    {
     "name": "stdout",
     "output_type": "stream",
     "text": [
      "\n",
      "Finetuning the model...\n"
     ]
    },
    {
     "data": {
      "text/html": [
       "\n",
       "    <div>\n",
       "      \n",
       "      <progress value='250' max='250' style='width:300px; height:20px; vertical-align: middle;'></progress>\n",
       "      [250/250 03:01, Epoch 1/1]\n",
       "    </div>\n",
       "    <table border=\"1\" class=\"dataframe\">\n",
       "  <thead>\n",
       " <tr style=\"text-align: left;\">\n",
       "      <th>Step</th>\n",
       "      <th>Training Loss</th>\n",
       "    </tr>\n",
       "  </thead>\n",
       "  <tbody>\n",
       "  </tbody>\n",
       "</table><p>"
      ],
      "text/plain": [
       "<IPython.core.display.HTML object>"
      ]
     },
     "metadata": {},
     "output_type": "display_data"
    },
    {
     "data": {
      "text/plain": [
       "TrainOutput(global_step=250, training_loss=0.5616519775390625, metrics={'train_runtime': 182.0922, 'train_samples_per_second': 5.492, 'train_steps_per_second': 1.373, 'total_flos': 132467398656000.0, 'train_loss': 0.5616519775390625, 'epoch': 1.0})"
      ]
     },
     "execution_count": 16,
     "metadata": {},
     "output_type": "execute_result"
    }
   ],
   "source": [
    "# Finetune the model\n",
    "print(\"\\nFinetuning the model...\")\n",
    "trainer.train()\n"
   ]
  },
  {
   "cell_type": "markdown",
   "metadata": {},
   "source": [
    "### Post finetune evaluation & predictions"
   ]
  },
  {
   "cell_type": "code",
   "execution_count": 17,
   "metadata": {},
   "outputs": [
    {
     "name": "stdout",
     "output_type": "stream",
     "text": [
      "\n",
      "Evaluating model after finetuning...\n",
      "Post-finetuning accuracy: 0.8710\n",
      "\n",
      "Post-finetuning predictions:\n",
      "Text: CONGO is probably the worst big-budget movie of the 1990s. It is so bad that it is watchable over an...\n",
      "True label: 0, Predicted label: 0\n",
      "Text: The acting was terrible, the cheesy, fake, CHEAP green screen effects were ridiculous, and the creat...\n",
      "True label: 0, Predicted label: 0\n",
      "Text: This movie is a sleeper - I've watched every miniseries that was ever on TV, some many times, and th...\n",
      "True label: 1, Predicted label: 1\n",
      "Text: Before I had seen this film, I had heard some negative comments about it. However, when watching it ...\n",
      "True label: 0, Predicted label: 1\n",
      "Text: As i watched \"Wirey Spindell\" i couldnt but laugh at what was taking place on screen. Wirey sure got...\n",
      "True label: 1, Predicted label: 1\n"
     ]
    }
   ],
   "source": [
    "# Post-finetuning evaluation\n",
    "print(\"\\nEvaluating model after finetuning...\")\n",
    "post_eval = trainer.evaluate()\n",
    "print(f\"Post-finetuning accuracy: {post_eval['eval_accuracy']:.4f}\")\n",
    "\n",
    "# Show predictions after finetuning\n",
    "print(\"\\nPost-finetuning predictions:\")\n",
    "for example in examples:\n",
    "    predicted_label = predict(model, tokenizer, example)\n",
    "    print(f\"Text: {example['text'][:100]}...\")\n",
    "    print(f\"True label: {example['label']}, Predicted label: {predicted_label}\")\n"
   ]
  },
  {
   "cell_type": "markdown",
   "metadata": {},
   "source": [
    "- Pre finetune score:  0.4880\n",
    "- Post finetune score: 0.8710"
   ]
  }
 ],
 "metadata": {
  "kernelspec": {
   "display_name": "Python 3",
   "language": "python",
   "name": "python3"
  },
  "language_info": {
   "codemirror_mode": {
    "name": "ipython",
    "version": 3
   },
   "file_extension": ".py",
   "mimetype": "text/x-python",
   "name": "python",
   "nbconvert_exporter": "python",
   "pygments_lexer": "ipython3",
   "version": "3.11.11"
  }
 },
 "nbformat": 4,
 "nbformat_minor": 2
}
