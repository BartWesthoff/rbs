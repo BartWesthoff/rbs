{
 "cells": [
  {
   "cell_type": "markdown",
   "metadata": {},
   "source": [
    "ssh -o ProxyCommand=\"ssh -g -L 8889:localhost:8889 s4451856@sshgw.leidenuniv.nl -q -W U0065090:22\" -g -L 8889:localhost:8889 s4451856@U0065090"
   ]
  },
  {
   "cell_type": "markdown",
   "metadata": {
    "id": "YjFWQh_hyghW"
   },
   "source": [
    "# Introduction to Deep Learning\n",
    "\n",
    "<div style=\"text-align: right\">   </div>\n",
    "\n",
    "\n",
    "Introduction to Deep Learning (2024) &nbsp; &nbsp; &nbsp; &nbsp; &nbsp; &nbsp; &nbsp; &nbsp; &nbsp; &nbsp; &nbsp; &nbsp; &nbsp; &nbsp; &nbsp;&nbsp; &nbsp; &nbsp; &nbsp; &nbsp; &nbsp; &nbsp; &nbsp; &nbsp; &nbsp; &nbsp; &nbsp; &nbsp; &nbsp; &nbsp; &nbsp; &nbsp; &nbsp; &nbsp; &nbsp; &nbsp;&nbsp; &nbsp; &nbsp; &nbsp; &nbsp; &nbsp;&nbsp; &nbsp; &nbsp; &nbsp; &nbsp; &nbsp; &nbsp; &nbsp; &nbsp; &nbsp; &nbsp; &nbsp; &nbsp; &nbsp; &nbsp;&nbsp; &nbsp; &nbsp; &nbsp; &nbsp; &nbsp;| &nbsp;\n",
    "-------|-------------------\n",
    "**Assignment 1, Part 3: Generative Models** | <img src=\"https://upload.wikimedia.org/wikipedia/commons/thumb/b/b0/UniversiteitLeidenLogo.svg/1280px-UniversiteitLeidenLogo.svg.png\" width=\"300\">\n",
    "\n",
    "\n",
    "In this notebook we are going to cover two generative models for generating novel images:\n",
    "\n",
    "1. Variational Autoencoders (**VAEs**)\n",
    "2. Generative adversarial networks (**GANs**)\n",
    "\n",
    "\n",
    "<img src=\"https://lilianweng.github.io/lil-log/assets/images/three-generative-models.png\" width=\"500\">\n",
    "\n",
    "\n",
    "Your main goal will be to retrain these models on a dataset of your choice and do some experiments on the learned latent space.\n",
    "\n",
    "You should first copy this notebook and enable GPU runtime in 'Runtime -> Change runtime type -> Hardware acceleration -> GPU **OR** TPU'.\n"
   ]
  },
  {
   "cell_type": "code",
   "execution_count": 1,
   "metadata": {
    "id": "yQx88dcX9eKn"
   },
   "outputs": [],
   "source": [
    "### If you are running on LIACS Lab machines, run the command below to reproduce the same package environment as Colab\n",
    "\n",
    "#!pip install tf_keras==2.17.0 # Uncomment this to set up the right version"
   ]
  },
  {
   "cell_type": "code",
   "execution_count": null,
   "metadata": {
    "id": "aDjcuZ_rygha"
   },
   "outputs": [],
   "source": [
    "import os\n",
    "os.environ['TF_USE_LEGACY_KERAS'] = '1'\n",
    "\n",
    "from tqdm import tqdm\n",
    "import numpy as np\n",
    "import tensorflow as tf\n",
    "import matplotlib.pyplot as plt\n",
    "import scipy.interpolate as intrplt\n",
    "import kagglehub"
   ]
  },
  {
   "cell_type": "code",
   "execution_count": null,
   "metadata": {},
   "outputs": [],
   "source": [
    "# Download latest version\n",
    "path = kagglehub.dataset_download(\"chwasiq0569/cryptopunks-pixel-art-dataset\")\n",
    "paintings_path  = os.path.join(path, \"cryptopunks\")\n",
    "faces_path = os.path.join('data', 'cryptopunks')\n",
    "print(\"Path to dataset files:\", paintings_path)\n",
    "print(\"Path to faces files:\", faces_path)"
   ]
  },
  {
   "cell_type": "code",
   "execution_count": null,
   "metadata": {},
   "outputs": [],
   "source": [
    "# downscale the faces images to 64x64 (keep 3 channels)\n",
    "from PIL import Image\n",
    "import os\n",
    "# load faces images\n",
    "faces = []\n",
    "for file in os.listdir(faces_path):\n",
    "    image = Image.open(os.path.join(faces_path, file))\n",
    "    image = image.resize((64, 64))\n",
    "    faces.append(np.array(image))\n",
    "faces = np.array(faces)\n",
    "print(faces.shape)\n",
    "# save images to data/faces64/\n",
    "for i, face in enumerate(faces):\n",
    "    Image.fromarray(face).save(os.path.join('data', 'cryptopunks64', f'{i}.png'))\n",
    "# save faces as npy\n",
    "np.save(os.path.join('data', 'cryptopunks64.npy'), faces)"
   ]
  },
  {
   "cell_type": "code",
   "execution_count": null,
   "metadata": {},
   "outputs": [],
   "source": [
    "# load faces npy\n",
    "dataset = np.load(os.path.join('data', 'cryptopunks64.npy'))\n",
    "print(dataset.shape)"
   ]
  },
  {
   "cell_type": "markdown",
   "metadata": {
    "id": "4XMNhkbjyghf"
   },
   "source": [
    "\n",
    "### Dataset\n",
    "\n",
    "This dataset is called [Flickr-Faces-HQ Dataset](https://github.com/NVlabs/ffhq-dataset). Here we will use a downsampled version of it (64x64x3) that will speed up all the experiments. [Download](https://surfdrive.surf.nl/files/index.php/s/LXBrnGGvUISlckW).\n",
    "\n",
    "After downloading you should copy it to your google drive's main directory (or modify the code to load it from elsewhere).\n",
    "\n",
    "After running the notebook on this default dataset you then need to find a dataset of your own."
   ]
  },
  {
   "cell_type": "code",
   "execution_count": null,
   "metadata": {
    "colab": {
     "base_uri": "https://localhost:8080/",
     "height": 454
    },
    "id": "el6Icj9gyghg",
    "outputId": "26664233-9f0c-45b9-d2d3-e0af19e2ce24"
   },
   "outputs": [],
   "source": [
    "def load_real_samples(dataset_path, scale=False):\n",
    "    # We load 20,000 samples only to avoid memory issues, you can  change this value\n",
    "    X = np.load(dataset_path,  fix_imports=True,encoding='latin1')\n",
    "    # Scale samples in range [-127, 127]\n",
    "    if scale:\n",
    "        X = (X - 127.5) * 2\n",
    "    return X / 255.\n",
    "\n",
    "# We will use this function to display the output of our models throughout this notebook\n",
    "def grid_plot(images, epoch='', name='', n=3, save=False, scale=False):\n",
    "    if scale:\n",
    "        images = (images + 1) / 2.0\n",
    "    for index in range(n * n):\n",
    "        plt.subplot(n, n, 1 + index)\n",
    "        plt.axis('off')\n",
    "        plt.imshow(images[index])\n",
    "    fig = plt.gcf()\n",
    "    fig.suptitle(name + '  '+ str(epoch), fontsize=14)\n",
    "    if save:\n",
    "        filename = 'results/generated_plot_e%03d_f.png' % (epoch+1)\n",
    "        plt.savefig(filename)\n",
    "        plt.close()\n",
    "    plt.show()\n",
    "\n",
    "\n",
    "dataset = load_real_samples(dataset_path=os.path.join('data', 'cryptopunks64.npy'))\n",
    "grid_plot(dataset[np.random.randint(0, dataset.shape[0], 9)], name='Cryptopunks dataset (64x64x3)', n=3)"
   ]
  },
  {
   "cell_type": "markdown",
   "metadata": {
    "id": "IY2JiCWeyghl"
   },
   "source": [
    "## 2.1. Introduction\n",
    "\n",
    "The generative models that we are going to cover both have the following components:\n",
    "\n",
    "1. A downsampling architecture (encoder in case of VAE, and discriminator in case of GAN) to either extract features from the data or model its distribution.\n",
    "2. An upsampling architecture (decoder for VAE, generator for GAN) that will use some kind of latent vector to generate new samples that resemble the data that it was trained on.\n",
    "\n",
    "Since we are going to be dealing with images, we are going to use convolutional networks for upsampling and downsampling, similar to what you see below.\n",
    "\n",
    "<img src=\"https://i2.wp.com/sefiks.com/wp-content/uploads/2018/03/convolutional-autoencoder.png\" width=\"500\">\n",
    "\n",
    "\n",
    "#### Code for building these components:"
   ]
  },
  {
   "cell_type": "code",
   "execution_count": 7,
   "metadata": {
    "id": "AMljVR5oyghm"
   },
   "outputs": [],
   "source": [
    "from tensorflow.keras.layers import Dense, Flatten, Conv2D, Conv2DTranspose, Reshape\n",
    "\n",
    "def build_conv_net(in_shape, out_shape, n_downsampling_layers=4, filters=128, out_activation='sigmoid'):\n",
    "    \"\"\"\n",
    "    Build a basic convolutional network\n",
    "    \"\"\"\n",
    "    default_args=dict(kernel_size=(3,3), strides=(2,2), padding='same', activation='relu')\n",
    "\n",
    "    input = tf.keras.Input(shape=in_shape)\n",
    "    x = Conv2D(filters=filters, name='enc_input', **default_args)(input)\n",
    "\n",
    "    for _ in range(n_downsampling_layers):\n",
    "        x = Conv2D(**default_args, filters=filters)(x)\n",
    "\n",
    "    x = Flatten()(x)\n",
    "    x = Dense(out_shape, activation=out_activation, name='enc_output')(x)\n",
    "\n",
    "    model = tf.keras.Model(inputs=input, outputs=x, name='Encoder')\n",
    "\n",
    "    model.summary()\n",
    "    return model\n",
    "\n",
    "\n",
    "def build_deconv_net(latent_dim, n_upsampling_layers=4, filters=128, activation_out='sigmoid'):\n",
    "    \"\"\"\n",
    "    Build a deconvolutional network for decoding/upscaling latent vectors\n",
    "\n",
    "    When building the deconvolutional architecture, usually it is best to use the same layer sizes that\n",
    "    were used in the downsampling network and the Conv2DTranspose layers are used instead of Conv2D layers.\n",
    "    Using identical layers and hyperparameters ensures that the dimensionality of our output matches the\n",
    "    shape of our input images.\n",
    "    \"\"\"\n",
    "    input = tf.keras.Input(shape=(latent_dim,))\n",
    "    x = Dense(4 * 4 * 64, input_dim=latent_dim, name='dec_input')(input)\n",
    "    x = Reshape((4, 4, 64))(x) # This matches the output size of the downsampling architecture\n",
    "\n",
    "    default_args=dict(kernel_size=(3,3), strides=(2,2), padding='same', activation='relu')\n",
    "\n",
    "    for i in range(n_upsampling_layers):\n",
    "        x = Conv2DTranspose(filters=filters, **default_args)(x)\n",
    "\n",
    "    # This last convolutional layer converts back to 3 channel RGB image\n",
    "    x = Conv2D(filters=3, kernel_size=(3,3), padding='same', activation=activation_out, name='dec_output')(x)\n",
    "\n",
    "    model = tf.keras.Model(inputs=input, outputs=x, name='Decoder')\n",
    "    model.summary()\n",
    "    return model"
   ]
  },
  {
   "cell_type": "markdown",
   "metadata": {
    "id": "JA4GwTxMyghq"
   },
   "source": [
    "### Convolutional Autoencoder example\n",
    "\n",
    "Using these two basic building blocks we can now build a Convolutional Autoencoder (CAE).\n",
    "\n",
    "<img src=\"https://lilianweng.github.io/lil-log/assets/images/autoencoder-architecture.png\" width=\"500\">\n",
    "\n",
    "\n",
    "\n",
    "Even though it's not a generative model, CAE is a great way to illustrate how these two components (convolutional and deconvolutional networks) can be used together to reconstruct images.\n",
    "\n",
    "You can view such model as a compression/dimensionality reduction method as each image gets compressed to a vector of 256 numbers by the encoder and gets decompressed back into an image using the decoder network."
   ]
  },
  {
   "cell_type": "code",
   "execution_count": null,
   "metadata": {
    "colab": {
     "background_save": true
    },
    "id": "j9vPwWeLyghq",
    "scrolled": true
   },
   "outputs": [],
   "source": [
    "def build_convolutional_autoencoder(data_shape, latent_dim, filters=128):\n",
    "    encoder = build_conv_net(in_shape=data_shape, out_shape=latent_dim, filters=filters)\n",
    "    decoder = build_deconv_net(latent_dim, activation_out='sigmoid', filters=filters)\n",
    "\n",
    "    # We connect encoder and decoder into a single model\n",
    "    autoencoder = tf.keras.Sequential([encoder, decoder])\n",
    "\n",
    "    # Binary crossentropy loss - pairwise comparison between input and output pixels\n",
    "    autoencoder.compile(loss='binary_crossentropy', optimizer='adam')\n",
    "\n",
    "    return autoencoder\n",
    "\n",
    "\n",
    "# Defining the model dimensions and building it\n",
    "image_size = dataset.shape[1:]\n",
    "latent_dim = 512\n",
    "num_filters = 128\n",
    "cae = build_convolutional_autoencoder(image_size, latent_dim, num_filters)\n",
    "\n",
    "\n",
    "## Training the Convolutional autoencoder to reconstruct images\n",
    "for epoch in range(100):\n",
    "    print('\\nEpoch: ', epoch)\n",
    "\n",
    "    # Note that (X=y) when training autoencoders!\n",
    "    # In this case we only care about qualitative performance, we don't split into train/test sets\n",
    "    cae.fit(x=dataset, y=dataset, epochs=1, batch_size=64)\n",
    "\n",
    "    samples = dataset[:9]\n",
    "    reconstructed = cae.predict(samples)\n",
    "    grid_plot(samples, epoch, name='Original', n=3, save=False)\n",
    "    grid_plot(reconstructed, epoch, name='Reconstructed', n=3, save=False)"
   ]
  },
  {
   "cell_type": "markdown",
   "metadata": {
    "id": "_N2Wdjv9tTXi"
   },
   "source": [
    "*Note: You may experiment with the latent dimensionality and number of filters in your convolutional network to see how it affects the reconstruction quality. Remember that this also affects the size of the model and time it takes to train.*"
   ]
  },
  {
   "cell_type": "markdown",
   "metadata": {
    "id": "TWInkZXdyghv"
   },
   "source": [
    "---\n",
    "---\n",
    "\n",
    "\n",
    "## 2. 2. Variational Autoencoders (VAEs)\n",
    "\n",
    "<img src=\"https://lilianweng.github.io/lil-log/assets/images/vae-gaussian.png\" width=\"500\">\n",
    "\n",
    "#### Encoder network\n",
    "This defines the approximate posterior distribution, which takes as input an observation and outputs a set of parameters for specifying the conditional distribution of the latent representation. In this example, we simply model the distribution as a diagonal Gaussian, and the network outputs the mean and log-variance parameters of a factorized Gaussian. We output log-variance instead of the variance directly for numerical stability.\n",
    "\n",
    "#### Decoder network\n",
    "This defines the conditional distribution of the observation $z$, which takes a latent sample $z$ as input and outputs the parameters for a conditional distribution of the observation. We model the latent distribution prior  as a unit Gaussian.\n",
    "\n",
    "#### Reparameterization trick\n",
    "To generate a sample  for the decoder during training, we can sample from the latent distribution defined by the parameters outputted by the encoder, given an input observation $z$. However, this sampling operation creates a bottleneck because backpropagation cannot flow through a random node.\n",
    "\n",
    "To address this, we use a reparameterization trick. In our example, we approximate  using the decoder parameters and another parameter  as follows:\n",
    "\n",
    "$$z = \\mu + \\sigma\\epsilon$$\n",
    "\n",
    "where $\\mu$ and $\\sigma$  represent the mean and standard deviation of a Gaussian distribution respectively. They can be derived from the decoder output. The  can be thought of as a random noise used to maintain stochasticity of $z$. We generate  from a standard normal distribution.\n",
    "\n",
    "The latent variable  is now generated by a function of $\\mu$ and $\\sigma$ which would enable the model to backpropagate gradients in the encoder through $\\mu$ and $\\sigma$ respectively, while maintaining stochasticity through $\\epsilon$.\n",
    "\n",
    "#### Implementation\n",
    "\n",
    "You can see how this trick is implemented below by creating a custom layer by sublassing tf.keras.layers.Layer.\n",
    "It is then connected to the output of the original encoder architecture and an additional [KL](https://en.wikipedia.org/wiki/Kullback–Leibler_divergence) loss term is introduced.\n"
   ]
  },
  {
   "cell_type": "code",
   "execution_count": 9,
   "metadata": {
    "id": "FyGbnibCyghw"
   },
   "outputs": [],
   "source": [
    "class Sampling(tf.keras.layers.Layer):\n",
    "    \"\"\"\n",
    "    Custom layer for the variational autoencoder\n",
    "    It takes two vectors as input - one for means and other for variances of the latent variables described by a multimodal gaussian\n",
    "    Its output is a latent vector randomly sampled from this distribution\n",
    "    \"\"\"\n",
    "    def call(self, inputs):\n",
    "        z_mean, z_var = inputs\n",
    "        batch = tf.shape(z_mean)[0]\n",
    "        dim = tf.shape(z_mean)[1]\n",
    "        epsilon = tf.keras.backend.random_normal(shape=(batch, dim))\n",
    "        return z_mean + tf.exp(0.5 * z_var) * epsilon\n",
    "\n",
    "def build_vae(data_shape, latent_dim, filters=128):\n",
    "\n",
    "    # Building the encoder - starts with a simple downsampling convolutional network\n",
    "    encoder = build_conv_net(data_shape, latent_dim*2, filters=filters)\n",
    "\n",
    "    # Adding special sampling layer that uses the reparametrization trick\n",
    "    z_mean = Dense(latent_dim)(encoder.output)\n",
    "    z_var = Dense(latent_dim)(encoder.output)\n",
    "    z = Sampling()([z_mean, z_var])\n",
    "\n",
    "    # Connecting the two encoder parts\n",
    "    encoder = tf.keras.Model(inputs=encoder.input, outputs=z)\n",
    "\n",
    "    # Defining the decoder which is a regular upsampling deconvolutional network\n",
    "    decoder = build_deconv_net(latent_dim, activation_out='sigmoid', filters=filters)\n",
    "    vae = tf.keras.Model(inputs=encoder.input, outputs=decoder(z))\n",
    "\n",
    "    # Define a custom layer for the KL loss calculation\n",
    "    class KLLossLayer(tf.keras.layers.Layer):\n",
    "        def call(self, inputs):\n",
    "            z_mean, z_var = inputs\n",
    "            kl_loss = -0.5 * tf.reduce_sum(z_var - tf.square(z_mean) - tf.exp(z_var) + 1)\n",
    "            # Add the KL loss to the model's losses\n",
    "            self.add_loss(kl_loss / tf.cast(tf.keras.backend.prod(data_shape), tf.float32))\n",
    "            return inputs  # Pass through the inputs unchanged\n",
    "\n",
    "    # Apply the custom layer to z_mean and z_var\n",
    "    _, _ = KLLossLayer()([z_mean, z_var])\n",
    "\n",
    "    vae.compile(optimizer=tf.keras.optimizers.Adam(learning_rate=1e-3), loss='binary_crossentropy')\n",
    "\n",
    "    return encoder, decoder, vae"
   ]
  },
  {
   "cell_type": "code",
   "execution_count": null,
   "metadata": {
    "id": "7p_ppHSayghz",
    "scrolled": true
   },
   "outputs": [],
   "source": [
    "# Training the VAE model\n",
    "\n",
    "latent_dim = 64\n",
    "encoder, decoder, vae = build_vae(dataset.shape[1:], latent_dim, filters=64)\n",
    "\n",
    "for epoch in range(100):\n",
    "    vae.fit(x=dataset, y=dataset, epochs=1, batch_size=8)\n",
    "\n",
    "    # Generate random vectors that we will use to sample from the learned latent space\n",
    "    coefficient = 6                                 # You can tweak this coefficient to increase/decrease the std of the sampled vectors\n",
    "    latent_vectors = np.random.randn(9, latent_dim) # Generate 9 random points in the latent space\n",
    "    images = decoder(latent_vectors / coefficient)  # Feed the vectors scaled by the coefficient to the model\n",
    "    grid_plot(images, epoch, name='VAE generated images (randomly sampled from the latent space)', n=3, save=False)"
   ]
  },
  {
   "cell_type": "markdown",
   "metadata": {
    "id": "P8aZw5amzyPV"
   },
   "source": [
    "*Note: again, you might experiment with the latent dimensionality, batch size and the architecture of your convolutional nets to see how it affects the generative capabilities of this model.*"
   ]
  },
  {
   "cell_type": "markdown",
   "metadata": {
    "id": "JkT8Wmc_ygh3"
   },
   "source": [
    "---\n",
    "\n",
    "## 2.3 Generative Adversarial Networks (GANs)\n",
    "\n",
    "### GAN architecture\n",
    "Generative adversarial networks consist of two models: a generative model and a discriminative model.\n",
    "\n",
    "<img src=\"https://media.springernature.com/original/springer-static/image/chp%3A10.1007%2F978-1-4842-3679-6_8/MediaObjects/463582_1_En_8_Fig1_HTML.jpg\" width=\"500\">\n",
    "\n",
    "**The discriminator** model is a classifier that determines whether a given image looks like a real image from the dataset or like an artificially created image. This is basically a binary classifier that will take the form of a normal convolutional neural network (CNN).\n",
    "As an input this network will get samples both from the dataset that it is trained on and on the samples generated by the **generator**.\n",
    "\n",
    "The **generator** model takes random input values (noise) and transforms them into images through a deconvolutional neural network.\n",
    "\n",
    "Over the course of many training iterations, the weights and biases in the discriminator and the generator are trained through backpropagation. The discriminator learns to tell \"real\" images of handwritten digits apart from \"fake\" images created by the generator. At the same time, the generator uses feedback from the discriminator to learn how to produce convincing images that the discriminator can't distinguish from real images.\n",
    "\n",
    "\n"
   ]
  },
  {
   "cell_type": "code",
   "execution_count": 11,
   "metadata": {
    "id": "E5J6CxJ9ygh4"
   },
   "outputs": [],
   "source": [
    "from tensorflow.keras.optimizers.legacy import Adam\n",
    "\n",
    "def build_gan(data_shape, latent_dim, filters=128, lr=0.0002, beta_1=0.5):\n",
    "    optimizer = Adam(learning_rate=lr, beta_1=beta_1)\n",
    "\n",
    "    # Usually thew GAN generator has tanh activation function in the output layer\n",
    "    generator = build_deconv_net(latent_dim, activation_out='tanh', filters=filters)\n",
    "\n",
    "    # Build and compile the discriminator\n",
    "    discriminator = build_conv_net(in_shape=data_shape, out_shape=1, filters=filters) # Single output for binary classification\n",
    "    discriminator.compile(loss='binary_crossentropy', optimizer=optimizer)\n",
    "\n",
    "    # End-to-end GAN model for training the generator\n",
    "    discriminator.trainable = False\n",
    "    true_fake_prediction = discriminator(generator.output)\n",
    "    GAN = tf.keras.Model(inputs=generator.input, outputs=true_fake_prediction)\n",
    "    GAN.compile(loss='binary_crossentropy', optimizer=optimizer)\n",
    "\n",
    "    return discriminator, generator, GAN\n"
   ]
  },
  {
   "cell_type": "markdown",
   "metadata": {
    "id": "kD3ipOOiygh8"
   },
   "source": [
    "### Definining custom functions for training your GANs\n",
    "\n",
    "---\n",
    "\n",
    "\n"
   ]
  },
  {
   "cell_type": "code",
   "execution_count": 12,
   "metadata": {
    "id": "6r31DNfFygh9"
   },
   "outputs": [],
   "source": [
    "def get_batch(generator, dataset, batch_size=64):\n",
    "    \"\"\"\n",
    "    Fetches one batch of data and ensures no memory leaks by using TensorFlow operations.\n",
    "    \"\"\"\n",
    "    half_batch = batch_size // 2\n",
    "\n",
    "    # Generate fake images\n",
    "    latent_vectors = tf.random.normal(shape=(half_batch, latent_dim))\n",
    "    fake_data = generator(latent_vectors, training=False)\n",
    "\n",
    "    # Select real images\n",
    "    idx = np.random.randint(0, dataset.shape[0], half_batch)\n",
    "    real_data = dataset[idx]\n",
    "\n",
    "    # Combine\n",
    "    X = tf.concat([real_data, fake_data], axis=0)\n",
    "    y = tf.concat([tf.ones((half_batch, 1)), tf.zeros((half_batch, 1))], axis=0)\n",
    "\n",
    "    return X, y\n",
    "\n",
    "\n",
    "def train_gan(generator, discriminator, gan, dataset, latent_dim, n_epochs=20, batch_size=64):\n",
    "    \"\"\"\n",
    "    Train the GAN with memory-efficient updates and clear session management.\n",
    "    \"\"\"\n",
    "    batches_per_epoch = dataset.shape[0] // batch_size\n",
    "\n",
    "    for epoch in range(n_epochs):\n",
    "        for batch in tqdm(range(batches_per_epoch)):\n",
    "            # Train Discriminator\n",
    "            X, y = get_batch(generator, dataset, batch_size)\n",
    "            discriminator_loss = discriminator.train_on_batch(X, y)\n",
    "\n",
    "            # Train Generator\n",
    "            latent_vectors = tf.random.normal(shape=(batch_size, latent_dim))\n",
    "            y_gan = tf.ones((batch_size, 1))\n",
    "            generator_loss = gan.train_on_batch(latent_vectors, y_gan)\n",
    "\n",
    "        # Generate and visualize after each epoch\n",
    "        noise = tf.random.normal(shape=(16, latent_dim))\n",
    "        generated_images = generator(noise, training=False)\n",
    "        grid_plot(generated_images.numpy(), epoch, name='Generated Images', n=3)\n",
    "\n",
    "        # Clear backend session to free memory\n",
    "        tf.keras.backend.clear_session()\n"
   ]
  },
  {
   "cell_type": "code",
   "execution_count": null,
   "metadata": {
    "id": "VpMsdygAygiB"
   },
   "outputs": [],
   "source": [
    "## Build and train the model (need around 10 epochs to start seeing some results)\n",
    "\n",
    "latent_dim = 256\n",
    "discriminator, generator, gan = build_gan(dataset.shape[1:], latent_dim, filters=128)\n",
    "dataset_scaled = load_real_samples(scale=True, dataset_path=os.path.join('data', 'cryptopunks64.npy'))\n",
    "\n",
    "train_gan(generator, discriminator, gan, dataset_scaled, latent_dim, n_epochs=100)"
   ]
  },
  {
   "cell_type": "markdown",
   "metadata": {
    "id": "XBCsM8ZAhhwx"
   },
   "source": [
    "*Note: the samples generated by small GANs are more diverse, when compared to VAEs, however some samples might look strange and do not resemble the data the model was trained on."
   ]
  },
  {
   "cell_type": "markdown",
   "metadata": {},
   "source": [
    "# T1.4\n",
    "\n",
    "## VAE Latent space interpolation"
   ]
  },
  {
   "cell_type": "code",
   "execution_count": 14,
   "metadata": {},
   "outputs": [],
   "source": [
    "# We will use this function to display the output of our models throughout this section\n",
    "def line_plot(images, epoch='', name='', n=5, save=False, scale=False):\n",
    "    if scale:\n",
    "        images = (images + 1) / 2.0\n",
    "\n",
    "    for index in range(n):\n",
    "        plt.subplot(1, n, 1+index)\n",
    "        plt.axis('off')\n",
    "        plt.imshow(images[index])\n",
    "    fig = plt.gcf()\n",
    "    fig.suptitle(name + '  '+ str(epoch), fontsize=14)\n",
    "    if save:\n",
    "        filename = 'results/generated_lineplot_e%03d_f.png' % (epoch+1)\n",
    "        plt.savefig(filename)\n",
    "        plt.close()\n",
    "    plt.show()"
   ]
  },
  {
   "cell_type": "code",
   "execution_count": null,
   "metadata": {
    "id": "oJQlRV9BNW1U"
   },
   "outputs": [],
   "source": [
    "latent_dim = 64\n",
    "coefficient = 6\n",
    "\n",
    "latent_vectors = np.random.randn(2, latent_dim) # Generate 2 random points in the latent space\n",
    "linfit = intrplt.interp1d([1,5], np.vstack(latent_vectors), axis=0)\n",
    "\n",
    "images = abs(decoder(linfit([i for i in range(1,6)]) / coefficient))\n",
    "\n",
    "line_plot(images, name='VAE image interpolation', n=5, save=False)"
   ]
  },
  {
   "cell_type": "markdown",
   "metadata": {},
   "source": [
    "## GAN Latent space interpolation"
   ]
  },
  {
   "cell_type": "code",
   "execution_count": null,
   "metadata": {},
   "outputs": [],
   "source": [
    "latent_dim = 256\n",
    "coefficient = 6\n",
    "\n",
    "latent_vectors = np.random.randn(2, latent_dim) # Generate 2 random points in the latent space\n",
    "linfit = intrplt.interp1d([1,5], np.vstack(latent_vectors), axis=0)\n",
    "\n",
    "images = abs(generator(linfit([i for i in range(1,6)])))\n",
    "\n",
    "line_plot(images, name='GAN image interpolation', n=5, save=False)"
   ]
  }
 ],
 "metadata": {
  "accelerator": "GPU",
  "colab": {
   "provenance": []
  },
  "kernelspec": {
   "display_name": "Python 3 (ipykernel)",
   "language": "python",
   "name": "python3"
  },
  "language_info": {
   "codemirror_mode": {
    "name": "ipython",
    "version": 3
   },
   "file_extension": ".py",
   "mimetype": "text/x-python",
   "name": "python",
   "nbconvert_exporter": "python",
   "pygments_lexer": "ipython3",
   "version": "3.12.7"
  }
 },
 "nbformat": 4,
 "nbformat_minor": 0
}
